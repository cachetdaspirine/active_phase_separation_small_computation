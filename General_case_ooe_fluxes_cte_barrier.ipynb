{
 "cells": [
  {
   "cell_type": "code",
   "execution_count": 1,
   "metadata": {},
   "outputs": [],
   "source": [
    "import numpy as np\n",
    "import matplotlib.pyplot as plt\n",
    "import sparse_stoch_mat_central as sp_stoch_mat\n",
    "import sys\n",
    "from scipy.sparse.linalg import spsolve\n",
    "import timeit\n",
    "sys.path.append('/home/hcleroy/Extra_Module_py/')\n",
    "from formated_matplotlib import *\n",
    "from functions import *"
   ]
  },
  {
   "cell_type": "markdown",
   "metadata": {},
   "source": [
    "## Equation differential of the problem :\n",
    "$$ \n",
    "\\begin{cases}\n",
    "&\\partial_t \\rho_a = \\partial_x^2 \\rho_a +\\partial_x[\\rho_a \\partial_x V_a] + \\rho_b k_{ba} + \\rho_c k_{ca} - \\rho_a(k_{ac}+k_{ab})\\\\\n",
    "&\\partial_t \\rho_b = \\partial_x^2 \\rho_b +\\partial_x[\\rho_b \\partial_x V_b] + \\rho_a k_{ab} + \\rho_c k_{cb} - \\rho_b(k_{bc}+k_{ba})\\\\\n",
    "&\\partial_t \\rho_c = \\partial_x^2 \\rho_c +\\partial_x[\\rho_c \\partial_x V_c] + \\rho_a k_{ac} + \\rho_b k_{bc} - \\rho_c(k_{ca}+k_{cb})\\\\\n",
    "\\end{cases}\n",
    "$$\n",
    "with :\n",
    "$$\n",
    "\\begin{cases}\n",
    "&k_{ab} = k_{ab}^0 e^{-\\text{max}(V_b-V_a,0)+\\epsilon_{ab}}A_{ab} \\hspace{1cm} k_{bc} = k_{bc}^0e^{-\\text{max}(V_c-V_b,0)+\\epsilon_{bc}}A_{bc} \\hspace{1cm} k_{ac} = k_{ac}^0 e^{-\\text{max}(V_c-V_a,0)+\\epsilon_{ac}}A_{ac}\\\\\n",
    "&k_{ba} = k_{ab}^0 e^{-\\text{max}(V_a-V_b,0)+\\epsilon_{ab}} \\hspace{1cm} k_{cb} = k_{bc}^0e^{-\\text{max}(V_b-V_c,0)+\\epsilon_{bc}} \\hspace{1cm} k_{ca} = k_{ac}^0 e^{-\\text{max}(V_a-V_c,0)+\\epsilon_{ac}}\n",
    "\\end{cases}\n",
    "$$\n",
    "Where $V_a$, $V_b$, and $V_c$ are the space dependent potential that affect respectively $a$, $b$, $c$, $A_{ab}$, $A_{bc}$, $A_{ac}$ are respectively the activity brought to the reaction $a\\rightarrow b$, $b\\rightarrow c$, $a\\rightarrow c$. the $k^0$ will define time units."
   ]
  },
  {
   "cell_type": "code",
   "execution_count": 31,
   "metadata": {},
   "outputs": [
    {
     "name": "stdout",
     "output_type": "stream",
     "text": [
      "dx = 0.001\n"
     ]
    }
   ],
   "source": [
    "V0a, V0b, V0c = 1.,2.,3.#2.,2.6,4.\n",
    "kab0,kbc0,kac0 = 1.,2.,10.\n",
    "Aab,Abc,Aac = 5.,10.,15. # != 1 -> ooe\n",
    "X0,Xf,n = -5,5,10000 # lower/higher spacial boundary and number of discretizing points\n",
    "dx = (Xf-X0)/n\n",
    "print('dx = '+str(dx))\n",
    "Eab,Ebc,Eac = 0.01,0.02,0.03\n",
    "steepA,steepB,steepC = 10.,10.,10.\n",
    "# define all the Vs :\n",
    "Va = lambda x : 0.5*(1+np.tanh(steepA * x)) * V0a\n",
    "Vb = lambda x : 0.5*(1+np.tanh(steepB*x)) * V0b\n",
    "Vc = lambda x : 0.5*(1+np.tanh(x*steepC)) * V0c\n",
    "\n",
    "#Va = lambda X : np.array([(V0a if x < (Xf-X0)/2+X0 else 0.) for x in X]) if type(X) == np.ndarray else (V0a if X < (Xf-X0)/2+X0 else 0.)\n",
    "#Vb = lambda X : np.array([(V0b if x < (Xf-X0)/2+X0 else 0.) for x in X]) if type(X) == np.ndarray else (V0b if X < (Xf-X0)/2+X0 else 0.)\n",
    "#Vc = lambda X : np.array([(V0b if x < (Xf-X0)/2+X0 else 0.) for x in X]) if type(X) == np.ndarray else (V0b if X < (Xf-X0)/2+X0 else 0.)\n",
    "\n",
    "#Va = lambda X : np.array([V0a for _ in range(X.shape[0])]) if type(X) == np.ndarray else V0a\n",
    "#Vb = lambda X : np.array([V0b for _ in range(X.shape[0])]) if type(X) == np.ndarray else V0b\n",
    "#Vc = lambda X : np.array([V0c for _ in range(X.shape[0])]) if type(X) == np.ndarray else V0c\n",
    "\n",
    "# define all the k's\n",
    "kab = lambda X,*arg : np.array([kab0 * np.exp(max(0,Va(x)-Vb(x))+Eab)*arg[0] for x in X]) if type(X) == np.ndarray else kab0 * np.exp(max(0,Va(X)-Vb(X))+Eab)*arg[0] # arg is the activity\n",
    "kba = lambda X,*arg : np.array([kab0 * np.exp(max(0,Vb(x)-Va(x))+Eab)for x in X]) if type(X)==np.ndarray else kab0 * np.exp(max(0,Vb(X)-Va(X))+Eab)# no activity but it takes the same argument as kab\n",
    "kbc = lambda X,*arg : np.array([kbc0 * np.exp(max(0,Vb(x)-Vc(x))+Ebc)*arg[0]for x in X]) if type(X)==np.ndarray else kbc0 * np.exp(max(0,Vb(X)-Vc(X))+Ebc)*arg[0]# arg is the activity\n",
    "kcb = lambda X,*arg : np.array([kbc0 * np.exp(max(0,Vc(x)-Vb(x))+Ebc)for x in X]) if type(X) == np.ndarray else kbc0 * np.exp(max(0,Vc(X)-Vb(X))+Ebc)# no activity but it takes the same argument as kbc\n",
    "kac = lambda X,*arg : np.array([kac0 * np.exp(max(0,Va(x)-Vc(x))+Eac)*arg[0]for x in X]) if type(X) ==np.ndarray else kac0 * np.exp(max(0,Va(X)-Vc(X))+Eac)*arg[0]# arg is the activity\n",
    "kca = lambda X,*arg : np.array([kac0 * np.exp(max(0,Vc(x)-Va(x))+Eac)for x in X]) if type(X) == np.ndarray else kac0 * np.exp(max(0,Vc(X)-Va(X))+Eac)# no activity but it takes the same argument as kac"
   ]
  },
  {
   "cell_type": "code",
   "execution_count": 32,
   "metadata": {},
   "outputs": [],
   "source": [
    "# we first compute the non-normalized diffusion part : \n",
    "rho_a_diff,rho_b_diff,rho_c_diff = make_eq_distrib(Va,Vb,Vc,np.linspace(X0,Xf,n,endpoint=False))\n",
    "# compute the normalization\n",
    "Z = (sum(rho_a_diff)+sum(rho_b_diff)+sum(rho_c_diff))*dx\n",
    "# normalize the diffusion part :\n",
    "rho_a_diff,rho_b_diff,rho_c_diff =rho_a_diff/Z,rho_b_diff/Z,rho_c_diff/Z\n",
    "# compute the non-normalized chemical part\n",
    "rho_a_chem,rho_b_chem,rho_c_chem = make_chem_eq(kab,kba,kac,kca,kbc,kcb,Aab,Aac,Abc,np.linspace(X0,Xf,n,endpoint=False))\n",
    "# compute the normalization for consistency :\n",
    "S = 3*np.exp(Va(np.linspace(X0,Xf,n,endpoint=False)))*Z ####### Not the good normalization in the general case\n",
    "# normalize the chemical part :\n",
    "rho_a_chem,rho_b_chem,rho_c_chem = rho_a_chem/S,rho_b_chem/S,rho_c_chem/S"
   ]
  },
  {
   "cell_type": "code",
   "execution_count": 33,
   "metadata": {},
   "outputs": [],
   "source": [
    "Eq_Stoch_Mat = sp_stoch_mat.make_transition_matrix(Va,Vb,Vc,\n",
    "                                    kab,kba,kbc,kcb,kac,kca,\n",
    "                                    kab0,kbc0,kac0,\n",
    "                                    Aab=1.,Abc=1.,Aac=1.,\n",
    "                                    X0=X0,Xf=Xf,n=n)\n",
    "rho_a_eq,rho_b_eq,rho_c_eq = get_kernel_stoch_mat(Eq_Stoch_Mat,dx)"
   ]
  },
  {
   "cell_type": "code",
   "execution_count": 34,
   "metadata": {},
   "outputs": [],
   "source": [
    "Ooe_Stoch_Mat = sp_stoch_mat.make_transition_matrix(Va,Vb,Vc,\n",
    "                                    kab,kba,kbc,kcb,kac,kca,\n",
    "                                    kab0,kbc0,kac0,\n",
    "                                    Aab=Aab,Abc=Abc,Aac=Aac,\n",
    "                                    X0=X0,Xf=Xf,n=n)\n",
    "rho_a_ooe,rho_b_ooe,rho_c_ooe = get_kernel_stoch_mat(Ooe_Stoch_Mat,dx)"
   ]
  },
  {
   "cell_type": "code",
   "execution_count": 35,
   "metadata": {},
   "outputs": [
    {
     "data": {
      "text/plain": [
       "[<matplotlib.lines.Line2D at 0x7f6ea225aaf0>]"
      ]
     },
     "execution_count": 35,
     "metadata": {},
     "output_type": "execute_result"
    },
    {
     "data": {
      "image/png": "[encoded data removed]",
      "text/plain": [
       "<Figure size 1152x216 with 3 Axes>"
      ]
     },
     "metadata": {
      "needs_background": "light"
     },
     "output_type": "display_data"
    }
   ],
   "source": [
    "fig,ax = plt.subplots(ncols=3,figsize=(16,3))\n",
    "\n",
    "X = np.linspace(X0,Xf,n,endpoint=False)\n",
    "\n",
    "ax[0].plot(X,rho_a_diff,color=ColorCycle[0])\n",
    "#ax[0].plot(X,rho_a_chem,color=ColorCycle[0],linestyle='--')\n",
    "ax[0].plot(X,rho_a_eq,color = ColorCycle[0],linestyle=':')\n",
    "#ax[0].plot(X,rho_a_ooe,color = ColorCycle[0],linestyle='-.',label='ooe solution')\n",
    "\n",
    "ax[1].plot(X,rho_b_diff,color=ColorCycle[1])\n",
    "#ax[1].plot(X,rho_b_chem,color=ColorCycle[1],linestyle='--')\n",
    "ax[1].plot(X,rho_b_eq,color = ColorCycle[1],linestyle=':')\n",
    "#ax[1].plot(X,rho_b_ooe,color = ColorCycle[1],linestyle='-.',label='ooe solution')\n",
    "\n",
    "ax[2].plot(X,rho_c_diff,color=ColorCycle[2])\n",
    "#ax[2].plot(X,rho_c_chem,color=ColorCycle[2],linestyle='--')\n",
    "ax[2].plot(X,rho_c_eq,color = ColorCycle[2],linestyle=':')\n",
    "#ax[2].plot(X,rho_c_ooe,color = ColorCycle[2],linestyle='-.',label='ooe solution')\n",
    "\n",
    "#for i in range(3):\n",
    "#    ax[i].legend()"
   ]
  },
  {
   "cell_type": "markdown",
   "metadata": {},
   "source": [
    "## All the equilibrium solutions are consistent\n",
    "#### Check that the fluxes are 0 for the eq solution, and look at the fluxes for the non-eq solution"
   ]
  },
  {
   "cell_type": "code",
   "execution_count": 7,
   "metadata": {},
   "outputs": [],
   "source": [
    "A_eq_diff__diff_flux = diff_flux(rho_a_diff,Va(X),dx)\n",
    "A_eq_chem__diff_flux = diff_flux(rho_a_chem,Va(X),dx)\n",
    "A_eq__diff_flux = diff_flux(rho_a_eq,Va(X),dx)\n",
    "A_ooe__diff_flux = diff_flux(rho_a_ooe,Va(X),dx)\n",
    "\n",
    "B_eq_diff__diff_flux = diff_flux(rho_b_diff,Vb(X),dx)\n",
    "B_eq_chem__diff_flux = diff_flux(rho_b_chem,Vb(X),dx)\n",
    "B_eq__diff_flux = diff_flux(rho_b_eq,Vb(X),dx)\n",
    "B_ooe__diff_flux = diff_flux(rho_b_ooe,Vb(X),dx)\n",
    "\n",
    "C_eq_diff__diff_flux = diff_flux(rho_c_diff,Vc(X),dx)\n",
    "C_eq_chem__diff_flux = diff_flux(rho_c_chem,Vc(X),dx)\n",
    "C_eq__diff_flux = diff_flux(rho_c_eq,Vc(X),dx)\n",
    "C_ooe__diff_flux = diff_flux(rho_c_ooe,Vc(X),dx)"
   ]
  },
  {
   "cell_type": "code",
   "execution_count": 8,
   "metadata": {},
   "outputs": [
    {
     "data": {
      "image/png": "[encoded data removed]",
      "text/plain": [
       "<Figure size 1152x216 with 3 Axes>"
      ]
     },
     "metadata": {
      "needs_background": "light"
     },
     "output_type": "display_data"
    }
   ],
   "source": [
    "fig,ax = plt.subplots(ncols=3,figsize=(16,3))\n",
    "\n",
    "X = np.linspace(X0,Xf,n,endpoint=False)\n",
    "\n",
    "#ax[0].plot(X,A_eq_diff__diff_flux,color=ColorCycle[0])\n",
    "#ax[0].plot(X,A_eq_chem__diff_flux,color=ColorCycle[0],linestyle='--')\n",
    "#ax[0].plot(X,A_eq__diff_flux,color = ColorCycle[0],linestyle=':')\n",
    "ax[0].plot(X,A_ooe__diff_flux/rho_a_ooe ,color = ColorCycle[0],linestyle='-.',label='ooe solution')\n",
    "\n",
    "#ax[1].plot(X,B_eq_diff__diff_flux,color=ColorCycle[1])\n",
    "#ax[1].plot(X,B_eq_chem__diff_flux,color=ColorCycle[1],linestyle='--')\n",
    "#ax[1].plot(X,B_eq__diff_flux,color = ColorCycle[1],linestyle=':')\n",
    "ax[1].plot(X,B_ooe__diff_flux/rho_b_ooe,color = ColorCycle[1],linestyle='-.',label='ooe solution')\n",
    "\n",
    "#ax[2].plot(X,C_eq_diff__diff_flux,color=ColorCycle[2])\n",
    "#ax[2].plot(X,C_eq_chem__diff_flux,color=ColorCycle[2],linestyle='--')\n",
    "#ax[2].plot(X,C_eq__diff_flux,color = ColorCycle[2],linestyle=':')\n",
    "ax[2].plot(X,C_ooe__diff_flux/rho_c_ooe,color = ColorCycle[2],linestyle='-.',label='ooe solution')\n",
    "\n",
    "for i in range(3):\n",
    "    ax[i].legend()"
   ]
  },
  {
   "cell_type": "code",
   "execution_count": 11,
   "metadata": {},
   "outputs": [
    {
     "name": "stdout",
     "output_type": "stream",
     "text": [
      "1.3740761661829026e-07\n",
      "numerical resolution of this simulation : 1e-06\n"
     ]
    }
   ],
   "source": [
    "print(sum(A_ooe__diff_flux)+sum(B_ooe__diff_flux)+sum(C_ooe__diff_flux))\n",
    "print(\"numerical resolution of this simulation : \" +str(dx**2))"
   ]
  },
  {
   "cell_type": "code",
   "execution_count": null,
   "metadata": {},
   "outputs": [],
   "source": []
  }
 ],
 "metadata": {
  "kernelspec": {
   "display_name": "Python 3.8.8 ('base')",
   "language": "python",
   "name": "python3"
  },
  "language_info": {
   "codemirror_mode": {
    "name": "ipython",
    "version": 3
   },
   "file_extension": ".py",
   "mimetype": "text/x-python",
   "name": "python",
   "nbconvert_exporter": "python",
   "pygments_lexer": "ipython3",
   "version": "3.8.8"
  },
  "orig_nbformat": 4,
  "vscode": {
   "interpreter": {
    "hash": "1d5eeb8876f044179b361bcddd340056e6c77a1f8539f3472ec98ae68ef2c035"
   }
  }
 },
 "nbformat": 4,
 "nbformat_minor": 2
}
