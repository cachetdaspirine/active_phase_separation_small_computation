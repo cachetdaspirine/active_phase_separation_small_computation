{
 "cells": [
  {
   "cell_type": "code",
   "execution_count": 1,
   "metadata": {},
   "outputs": [],
   "source": [
    "import numpy as np\n",
    "import numpy.linalg as la\n",
    "import matplotlib.pyplot as plt"
   ]
  },
  {
   "cell_type": "markdown",
   "metadata": {},
   "source": [
    "## units of the simulation \n",
    "- $L = \\sqrt{D/k_{ab}^0}$\n",
    "- $T = 1/k_{ab}^0$\n",
    "- $E = 1/\\beta$\n",
    "## parameters of the simulation \n",
    "- $k_{bc}^0 = 1$ : equal to $k_{ab}^0$\n",
    "- $k_{ac}^0 = 1$ : equal to $k_{ab}^0$\n",
    "- $\\epsilon_{ac}$ = 0.1\n",
    "- $V$ = 1."
   ]
  },
  {
   "cell_type": "code",
   "execution_count": 2,
   "metadata": {},
   "outputs": [],
   "source": [
    "kbc = 1.\n",
    "kac = 1.\n",
    "Eac = 0.1\n",
    "V0 = 1."
   ]
  },
  {
   "cell_type": "markdown",
   "metadata": {},
   "source": [
    "## Equation differential of the problem :\n",
    "$$ \n",
    "\\begin{cases}\n",
    "& [\\partial_x \\rho_a]' = -\\partial_x\\rho_a \\partial_x V - \\rho_a \\partial_x^2 V - \\rho_b k_{ba} - \\rho_c k_{ca} + \\rho_a(k_{ac}+k_{ab})\\\\\n",
    "& \\rho_a' = \\partial_x \\rho_a \\\\\n",
    "& [\\partial_x \\rho_b]' = -k_{ab} \\rho_a - k_{cb} \\rho_c + \\rho_b(k_{bc}+k_{ba})\\\\\n",
    "& \\rho_b' = \\partial_x \\rho_b \\\\\n",
    "& [\\partial_x \\rho_c]' = -k_{ac} \\rho_a - k_{bc} \\rho_b + \\rho_c(k_{ca}+k_{cb})\\\\\n",
    "& \\rho_c' = \\partial_x \\rho_c\n",
    "\\end{cases}\n",
    "$$\n",
    "with :\n",
    "$$\n",
    "\\begin{cases}\n",
    "&k_{ab} = e^V \\hspace{1cm} k_{bc} = k_{bc}^0 \\hspace{1cm} k_{ac} = k_{ac}^0e^V\\\\\n",
    "&k_{ba} = 1 \\hspace{1cm} k_{cb} = k_{bc}^0 \\hspace{1cm} k_{ca} = k_{ac}^0 e^{-\\epsilon_{ac}}\n",
    "\\end{cases}\n",
    "$$\n",
    "We define $\\bar{\\rho} = \\{\\partial_x\\rho_a, \\rho_a,\\partial_x\\rho_b,\\rho_b,\\partial_x\\rho_c,\\rho_c\\}$\n"
   ]
  },
  {
   "cell_type": "markdown",
   "metadata": {},
   "source": [
    "And the associate matrix :\n",
    "$$\n",
    "P = \n",
    "\\begin{bmatrix}\n",
    "-\\partial_xV & -\\partial_x^2V+k_{ac}^0e^V+e^V & 0 & -1 & 0 & -k_{ac}^0 e^{-\\epsilon_{ac}} \\\\\n",
    "1 & 0 & 0 & 0 & 0 & 0 \\\\\n",
    "0 & -e^V & 0 & k_{bc}^0+1 & 0 & -k_{bc}^0 \\\\\n",
    "0 & 0 & 1 & 0 & 0 & 0 \\\\\n",
    "0 & -k_{ac}^0 e^V & 0 & -k_{bc}^0  &0 & k_{ac}^0 e^{-\\epsilon_{ac}}+k_{bc}^0\\\\\n",
    "0 & 0 & 0 & 0 & 1 & 0\n",
    "\\end{bmatrix}\n",
    "$$\n",
    "So that we get : \n",
    "$$\n",
    "\\bar{\\rho}' = P \\bar{\\rho}\n",
    "$$"
   ]
  },
  {
   "cell_type": "code",
   "execution_count": 3,
   "metadata": {},
   "outputs": [
    {
     "name": "stdout",
     "output_type": "stream",
     "text": [
      "step size : 0.0002\n"
     ]
    }
   ],
   "source": [
    "def P(V,dV,ddV,x):\n",
    "    return np.array([[-dV(x), -ddV(x) + (kac+1)*np.exp(V(x)),0,-1,0,-kac*np.exp(-Eac)],\n",
    "                    [1,0,0,0,0,0],\n",
    "                    [0,-np.exp(V(x)),0,kbc+1,0,-kbc],\n",
    "                    [0,0,1,0,0,0],\n",
    "                    [0,-kac*np.exp(V(x)),0,-kbc,0,kac*np.exp(-Eac)+kbc],\n",
    "                    [0,0,0,0,1,0]])\n",
    "#V = lambda x : 0.5*(1+np.tanh(x)) * V0\n",
    "#dV = lambda x : 1/np.cosh(x)**2 * V0\n",
    "#ddV = lambda x : -2/np.cosh(x)**2 * np.tanh(x) * V0\n",
    "def V(x) :\n",
    "    if x<0:\n",
    "        return 0.\n",
    "    else :\n",
    "        return V0\n",
    "dV = lambda x : 0\n",
    "ddV = lambda x : 0\n",
    "# We write the function f that takes two arguments : X (the position in space) and Y\n",
    "# the value of the vector rho at X. The function simply returns the derivative of the\n",
    "# vector rho at X\n",
    "def f(X,Y):\n",
    "    mat = P(V,dV,ddV,X)\n",
    "    return np.dot(mat,Y)\n",
    "\n",
    "X0 = -1 # left most boundary condition\n",
    "Xf = 1 # right most boundary at which we will perform the numerical resolution\n",
    "n = 10000 # number of point use\n",
    "h = (Xf-X0)/n # size of the step\n",
    "print(\"step size : \"+str(h))\n",
    "def rk4(f,xn,yn):\n",
    "    k1 = h * (f(xn, yn))\n",
    "    k2 = h * (f((xn+h/2), (yn+k1/2)))\n",
    "    k3 = h * (f((xn+h/2), (yn+k2/2)))\n",
    "    k4 = h * (f((xn+h), (yn+k3)))\n",
    "    k = (k1+2*k2+2*k3+k4)/6\n",
    "    return yn + k"
   ]
  },
  {
   "cell_type": "markdown",
   "metadata": {},
   "source": [
    "## Boundary conditions :\n",
    "We only us left side boundary conditions (is it an issue ?). Far from the interface, where the potential is 0, the solution is the one given by the chemical steady state : \n",
    "$$\n",
    "\\begin{cases}\n",
    "& \\partial_x \\rho_a^{-\\infty} = 0 \\\\\n",
    "& \\rho_a^{-\\infty} = (k_{ca}k_{ba} + k_{cb}k_{ba} + k_{bc}k_{ca})/S \\\\\n",
    "& \\partial_x\\rho_b^{-\\infty} = 0 \\\\\n",
    "& \\rho_b^{-\\infty} = (k_{ca}k_{ab} + k_{ab}k_{cb} + k_{ac}k_{cb})/S \\\\\n",
    "& \\partial_x\\rho_c^{-\\infty} = 0 \\\\\n",
    "& \\rho_c^{-\\infty} = (k_{ac}k_{bc} + k_{ba}k_{ac} + k_{ab}k_{bc})/S \n",
    "\\end{cases}\n",
    "$$\n",
    "with $S = k_{ca}k_{ba} + k_{cb}k_{ba} + k_{bc}k_{ca} + k_{ca}k_{ab} + k_{ab}k_{cb} + k_{ac}k_{cb} + k_{ac}k_{bc} + k_{ba}k_{ac} + k_{ab}k_{bc}$"
   ]
  },
  {
   "cell_type": "code",
   "execution_count": 4,
   "metadata": {},
   "outputs": [],
   "source": [
    "ra_no_norm = kac * np.exp(-Eac) * 1 + kbc*1 + kbc*kac*np.exp(-Eac)\n",
    "rb_no_norm = kac*np.exp(-Eac)*np.exp(0)+np.exp(0)*kbc+kac*np.exp(0)*kbc\n",
    "rc_no_norm = kac*np.exp(0)*kbc+1*kac*np.exp(0)+np.exp(0)*kbc\n",
    "S = ra_no_norm+rb_no_norm+rc_no_norm\n",
    "ra_infty = ra_no_norm/S\n",
    "rb_infty = rb_no_norm/S\n",
    "rc_infty = rc_no_norm/S\n",
    "\n",
    "rho_0 = np.array([0,ra_infty,0,rb_infty,0,rc_infty])"
   ]
  },
  {
   "cell_type": "code",
   "execution_count": 5,
   "metadata": {},
   "outputs": [],
   "source": [
    "ra_inf_nonorm = kac * np.exp(-Eac) * 1 + kbc*1 + kbc*kac*np.exp(-Eac)\n",
    "rb_inf_nonorm = kac*np.exp(-Eac)*np.exp(V0)+np.exp(V0)*kbc+kac*np.exp(V0)*kbc\n",
    "rc_inf_nonorm = kac*np.exp(V0)*kbc+1*kac*np.exp(V0)+np.exp(V0)*kbc\n",
    "S = ra_inf_nonorm+rb_inf_nonorm+rc_inf_nonorm\n",
    "rainfty = ra_inf_nonorm/S\n",
    "rbinfty = rb_inf_nonorm/S\n",
    "rcinfty = rc_inf_nonorm/S\n",
    "\n",
    "rho_inf = np.array([0,rainfty,0,rbinfty,0,rcinfty])"
   ]
  },
  {
   "cell_type": "markdown",
   "metadata": {},
   "source": [
    "## Perform the numerical solution"
   ]
  },
  {
   "cell_type": "code",
   "execution_count": 6,
   "metadata": {},
   "outputs": [],
   "source": [
    "rho_x = np.zeros((6,n),dtype=float)\n",
    "x = X0\n",
    "rho = rho_0\n",
    "for step in range(n):\n",
    "    rho = rk4(f,x,rho)\n",
    "    x += h\n",
    "    rho_x[:,step] = rho"
   ]
  },
  {
   "cell_type": "code",
   "execution_count": 7,
   "metadata": {},
   "outputs": [
    {
     "data": {
      "text/plain": [
       "[<matplotlib.lines.Line2D at 0x7fceda1721c0>]"
      ]
     },
     "execution_count": 7,
     "metadata": {},
     "output_type": "execute_result"
    },
    {
     "data": {
      "image/png": "[encoded data removed]",
      "text/plain": [
       "<Figure size 432x288 with 1 Axes>"
      ]
     },
     "metadata": {
      "needs_background": "light"
     },
     "output_type": "display_data"
    }
   ],
   "source": [
    "plt.plot(np.linspace(X0,Xf,n),rho_x[0,:])"
   ]
  },
  {
   "cell_type": "code",
   "execution_count": 12,
   "metadata": {},
   "outputs": [
    {
     "name": "stdout",
     "output_type": "stream",
     "text": [
      "[ 2.72723904  1.24179688 -1.3704574  -0.1278468  -1.35678164 -0.11395008]\n"
     ]
    }
   ],
   "source": [
    "print(rho_x[:,-1])"
   ]
  },
  {
   "cell_type": "code",
   "execution_count": 13,
   "metadata": {},
   "outputs": [],
   "source": [
    "rho_t = rho_0"
   ]
  },
  {
   "cell_type": "code",
   "execution_count": 23,
   "metadata": {},
   "outputs": [
    {
     "name": "stdout",
     "output_type": "stream",
     "text": [
      "[ 34.37866779  13.42839422 -17.35802045  -6.76934053 -17.02064734\n",
      "  -6.65905369]\n"
     ]
    }
   ],
   "source": [
    "for n in range(1000):\n",
    "    rho_t = rk4(f,1,rho_t)\n",
    "print(rho_t-rho_0)"
   ]
  },
  {
   "cell_type": "code",
   "execution_count": 10,
   "metadata": {},
   "outputs": [
    {
     "name": "stdout",
     "output_type": "stream",
     "text": [
      "[ 1.11022302e-20  0.00000000e+00 -1.11022302e-20  0.00000000e+00\n",
      "  0.00000000e+00  0.00000000e+00]\n",
      "[ 1.11022302e-20  0.00000000e+00 -2.22044605e-20  0.00000000e+00\n",
      "  0.00000000e+00  0.00000000e+00]\n"
     ]
    }
   ],
   "source": [
    "print(rk4(f,-1,rho_0)-rho_0)\n",
    "print(rk4(f,1,rho_inf)-rho_inf)"
   ]
  },
  {
   "cell_type": "code",
   "execution_count": 11,
   "metadata": {},
   "outputs": [
    {
     "data": {
      "text/plain": [
       "<matplotlib.legend.Legend at 0x7fceda06fb50>"
      ]
     },
     "execution_count": 11,
     "metadata": {},
     "output_type": "execute_result"
    },
    {
     "data": {
      "image/png": "[encoded data removed]",
      "text/plain": [
       "<Figure size 432x288 with 1 Axes>"
      ]
     },
     "metadata": {
      "needs_background": "light"
     },
     "output_type": "display_data"
    }
   ],
   "source": [
    "plt.plot(np.linspace(X0,0,n//2),[rho_0[1] for _ in range(n//2)],label='rho A - inf',c='blue')\n",
    "plt.plot(np.linspace(0,Xf,n//2),[rho_inf[1] for _ in range(n//2)],label='rho A + inf',c='blue')\n",
    "plt.plot(np.linspace(X0,0,n//2),[rho_0[3] for _ in range(n//2)],label='rho B - inf',c='red')\n",
    "plt.plot(np.linspace(0,Xf,n//2),[rho_inf[3] for _ in range(n//2)],label='rho B + inf',c='red')\n",
    "plt.legend()"
   ]
  },
  {
   "cell_type": "code",
   "execution_count": 24,
   "metadata": {},
   "outputs": [
    {
     "data": {
      "text/plain": [
       "array([ 2.52777393e+00, -2.52777393e+00, -3.40899739e-08,  3.40899746e-08,\n",
       "       -1.71806870e+00,  1.71806870e+00])"
      ]
     },
     "execution_count": 24,
     "metadata": {},
     "output_type": "execute_result"
    }
   ],
   "source": [
    "Mat = P(V,dV,ddV,1)\n",
    "la.eigvals(Mat)"
   ]
  },
  {
   "cell_type": "code",
   "execution_count": null,
   "metadata": {},
   "outputs": [],
   "source": []
  }
 ],
 "metadata": {
  "kernelspec": {
   "display_name": "Python 3.8.8 ('base')",
   "language": "python",
   "name": "python3"
  },
  "language_info": {
   "codemirror_mode": {
    "name": "ipython",
    "version": 3
   },
   "file_extension": ".py",
   "mimetype": "text/x-python",
   "name": "python",
   "nbconvert_exporter": "python",
   "pygments_lexer": "ipython3",
   "version": "3.8.8"
  },
  "orig_nbformat": 4,
  "vscode": {
   "interpreter": {
    "hash": "1d5eeb8876f044179b361bcddd340056e6c77a1f8539f3472ec98ae68ef2c035"
   }
  }
 },
 "nbformat": 4,
 "nbformat_minor": 2
}
