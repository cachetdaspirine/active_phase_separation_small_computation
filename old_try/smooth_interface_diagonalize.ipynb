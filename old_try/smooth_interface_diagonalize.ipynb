{
 "cells": [
  {
   "cell_type": "code",
   "execution_count": 7,
   "metadata": {},
   "outputs": [],
   "source": [
    "import numpy as np\n",
    "import numpy.linalg as la\n",
    "import matplotlib.pyplot as plt\n",
    "from make_transition_matrix import *"
   ]
  },
  {
   "cell_type": "markdown",
   "metadata": {},
   "source": [
    "## units of the simulation \n",
    "- $L = \\sqrt{D/k_{ab}^0}$\n",
    "- $T = 1/k_{ab}^0$\n",
    "- $E = 1/\\beta$\n",
    "## parameters of the simulation \n",
    "- $k_{bc}^0 = 1$ : equal to $k_{ab}^0$\n",
    "- $k_{ac}^0 = 1$ : equal to $k_{ab}^0$\n",
    "- $\\epsilon_{ac}$ = 0.1\n",
    "- $V$ = 1."
   ]
  },
  {
   "cell_type": "code",
   "execution_count": 8,
   "metadata": {},
   "outputs": [],
   "source": [
    "kbc = 1.\n",
    "kac = 1.\n",
    "Eac = 0.1\n",
    "V0 = 1.\n",
    "\n",
    "X0 = -5 # left most boundary condition\n",
    "Xf = 5 # right most boundary at which we will perform the numerical resolution\n",
    "n = 100 # number of point use for space\n",
    "dx = (Xf-X0)/n # size of the step"
   ]
  },
  {
   "cell_type": "markdown",
   "metadata": {},
   "source": [
    "## Equation differential of the problem :\n",
    "$$ \n",
    "\\begin{cases}\n",
    "& \\partial_t \\rho_a = \\partial_x^2 \\rho_a +\\partial_x[\\rho_a \\partial_x V] + \\rho_b k_{ba} + \\rho_c k_{ca} - \\rho_a(k_{ac}+k_{ab})\\\\\n",
    "&\\partial_t \\rho_b =  \\partial_x^2 \\rho_b +k_{ab} \\rho_a + k_{cb} \\rho_c - \\rho_b(k_{bc}+k_{ba})\\\\\n",
    "& \\partial_t \\rho_c = \\partial_x^2 \\rho_c +k_{ac} \\rho_a + k_{bc} \\rho_b - \\rho_c(k_{ca}+k_{cb})\\\\\n",
    "\\end{cases}\n",
    "$$\n",
    "with :\n",
    "$$\n",
    "\\begin{cases}\n",
    "&k_{ab} = e^V \\hspace{1cm} k_{bc} = k_{bc}^0 \\hspace{1cm} k_{ac} = k_{ac}^0e^V\\\\\n",
    "&k_{ba} = 1 \\hspace{1cm} k_{cb} = k_{bc}^0 \\hspace{1cm} k_{ca} = k_{ac}^0 e^{-\\epsilon_{ac}}\n",
    "\\end{cases}\n",
    "$$\n",
    "We define $\\bar{\\rho} = \\{\\rho_i(x+dx), \\rho_i(x), \\rho_i(x-dx)\\}_i$, with $i = a,b,c$\n"
   ]
  },
  {
   "cell_type": "markdown",
   "metadata": {},
   "source": [
    "And the associate matrix :\n",
    "$$\n",
    "P = \n",
    "\\begin{bmatrix}\n",
    "-\\partial_xV & -\\partial_x^2V+k_{ac}^0e^V+e^V & 0 & -1 & 0 & -k_{ac}^0 e^{-\\epsilon_{ac}} \\\\\n",
    "1 & 0 & 0 & 0 & 0 & 0 \\\\\n",
    "0 & -e^V & 0 & k_{bc}^0+1 & 0 & -k_{bc}^0 \\\\\n",
    "0 & 0 & 1 & 0 & 0 & 0 \\\\\n",
    "0 & -k_{ac}^0 e^V & 0 & -k_{bc}^0  &0 & k_{ac}^0 e^{-\\epsilon_{ac}}+k_{bc}^0\\\\\n",
    "0 & 0 & 0 & 0 & 1 & 0\n",
    "\\end{bmatrix}\n",
    "$$\n",
    "So that we get : \n",
    "$$\n",
    "\\bar{\\rho}(t+dt)(x) = P \\bar{\\rho} + \\rho(t)\n",
    "$$"
   ]
  },
  {
   "cell_type": "markdown",
   "metadata": {},
   "source": [
    "$$\n",
    "\\begin{pmatrix}\n",
    "\\rho_a(x+dx) & \\rho_a(x)& \\rho_a(x-dx)& \\rho_b(x+dx)& \\rho_b(x)&\\rho_b(x-dx)& \\rho_c(x+dx)& \\rho_c(x)&\\rho_c(x-dx)\\\\\n",
    "0 & 0 & 0 & 0 & 0 & 0 & 0 & 0 & 0 \\\\\n",
    "1/h^2 + \\partial_x V/(2*h) & -2/h^2 +\\partial_x^2V-k_{ac}^0e^V-e^V & 1/h^2-\\partial_x V/(2*h) & 0 & 1 & 0 & 0 & k_{ac}^0 e^{-\\epsilon_{ac}} & 0\\\\\n",
    "0 & 0 & 0 & 0 & 0 & 0 & 0 & 0 & 0 \\\\\n",
    "0 & 0 & 0 & 0 & 0 & 0 & 0 & 0 & 0 \\\\\n",
    "0 & e^V & 0 & 1/h^2 & - (k_{bc}^0 + 1) -2/h^2 & 1/h^2 & 0 & k_{bc}^0 & 0 \\\\\n",
    "0 & 0 & 0 & 0 & 0 & 0 & 0 & 0 & 0 \\\\\n",
    "0 & 0 & 0 & 0 & 0 & 0 & 0 & 0 & 0 \\\\\n",
    "0 & k_{ac}^0 e^V & 0 & 0 & k_{bc}^0 & 0 & 1/h^2 & -2/h^2 - k_{ac}^0 e^{-\\epsilon_{ac}}-k_{bc}^0 & 1/h^2\\\\\n",
    "0 & 0 & 0 & 0 & 0 & 0 & 0 & 0 & 0 \\\\\n",
    "\\end{pmatrix}\n",
    "$$"
   ]
  },
  {
   "cell_type": "markdown",
   "metadata": {},
   "source": [
    "Now we write the matrix of the full system for the associated vector :\n",
    "$$\\bar{rho} = \\{ \\rho_a(X_0), ... , \\rho_a(i.dx), ...,\\rho_a(X_f), \\rho_b(X_0), ..., \\rho_b(X_f),\\rho_c(X_0),...,\\rho_c(X_f)\\}$$"
   ]
  },
  {
   "cell_type": "code",
   "execution_count": 9,
   "metadata": {},
   "outputs": [],
   "source": [
    "\"\"\"\n",
    "def V(x) :\n",
    "    if x<0:\n",
    "        return 0.\n",
    "    else :\n",
    "        return V0\n",
    "dV = lambda x : 0\n",
    "ddV = lambda x : 0\n",
    "\"\"\"\n",
    "V = lambda x : 0.5*(1+np.tanh(x)) * V0\n",
    "dV = lambda x : 0.5/np.cosh(x)**2 * V0\n",
    "ddV = lambda x : -1/np.cosh(x)**2 * np.tanh(x) * V0\n",
    "# We write the function f that takes two arguments : X (the position in space) and Y\n",
    "# the value of the vector rho at X. The function simply returns the derivative of the\n",
    "# vector rho at X"
   ]
  },
  {
   "cell_type": "code",
   "execution_count": 46,
   "metadata": {},
   "outputs": [],
   "source": [
    "def make_transition_matrix_2(V,ddV,dV,X0,Xf,n,kac,Eac,kbc):\n",
    "    matrix = np.zeros((3*n,3*n),dtype=float)\n",
    "    dx = (Xf-X0)/n\n",
    "    for i in range(n):\n",
    "        # make the \"a\" transition\n",
    "        x = i*dx+X0\n",
    "        if i!=0 and i!=n-1:\n",
    "            matrix[i,i] += -2/dx**2 - (kac+1)*np.exp(V(x))-dV(x)/dx#+ddV(x)\n",
    "            matrix[i,n+i] += 1.\n",
    "            matrix[i,2*n+i] += kac*np.exp(-Eac)\n",
    "            matrix[i,i+1] += 1/dx**2+dV(x+dx)/dx\n",
    "            matrix[i,i-1] += 1/dx**2\n",
    "        elif i == 0:\n",
    "            # boundary condition in x = x0 and Xf\n",
    "            matrix[i,i] += - (kac+1)*np.exp(V(x))-1/dx**2#- dV(x) / (dx)\n",
    "            matrix[i,n+i] += 1.\n",
    "            matrix[i,2*n+i] += kac*np.exp(-Eac)\n",
    "            matrix[i,i+1] += 1/dx**2+dV(x+dx)/dx\n",
    "        elif i == n-1:\n",
    "            # boundary condition in x = x0 and Xf\n",
    "            matrix[i,i] += - (kac+1)*np.exp(V(x))-1/dx**2-dV(x)/dx\n",
    "            matrix[i,n+i] += 1.\n",
    "            matrix[i,2*n+i] += kac*np.exp(-Eac)\n",
    "            matrix[i,i-1] += 1/dx**2#- dV(x-dx) / (dx)\n",
    "    for i in range(n,2*n):\n",
    "        # make the \"b\" transition\n",
    "        x = (i-n)*dx+X0\n",
    "        if i!=n and i!=2*n-1:\n",
    "            matrix[i,i] = -kbc-1-2/dx**2\n",
    "            matrix[i,i-n] = np.exp(V(x))\n",
    "            matrix[i,i+n] = kbc\n",
    "            matrix[i,i+1] = 1/dx**2\n",
    "            matrix[i,i-1] = 1/dx**2\n",
    "        elif i==n :\n",
    "            matrix[i,i] = -kbc-1-1/dx**2\n",
    "            matrix[i,i+1] = 1/dx**2\n",
    "            matrix[i,i-n] = np.exp(V(x))\n",
    "            matrix[i,i+n] = kbc\n",
    "        elif i==2*n-1:\n",
    "            matrix[i,i] = -kbc-1-1/dx**2\n",
    "            matrix[i,i-1] = +1/dx**2\n",
    "            matrix[i,i-n] = np.exp(V(x))\n",
    "            matrix[i,i+n] = kbc\n",
    "    for i in range(2*n,3*n):\n",
    "        # make the \"c\" transition\n",
    "        x = (i-2*n)*dx+X0\n",
    "        if i!=2*n and i!=3*n-1:\n",
    "            matrix[i,i] = -kac*np.exp(-Eac)-kbc-2/dx**2\n",
    "            matrix[i,i-2*n] = kac*np.exp(V(x))\n",
    "            matrix[i,i-n] = kbc\n",
    "            matrix[i,i+1] = 1/dx**2\n",
    "            matrix[i,i-1] = 1/dx**2\n",
    "        elif i==2*n:\n",
    "            matrix[i,i] = -kac*np.exp(-Eac)-kbc-1/dx**2\n",
    "            matrix[i,i-2*n] = kac*np.exp(V(x))\n",
    "            matrix[i,i-n] = kbc\n",
    "            matrix[i,i+1] = 1/dx**2\n",
    "        elif i==3*n-1:\n",
    "            matrix[i,i] = -kac*np.exp(-Eac)-kbc-1/dx**2\n",
    "            matrix[i,i-2*n] = kac*np.exp(V(x))\n",
    "            matrix[i,i-n] = kbc\n",
    "            matrix[i,i-1] = 1/dx**2\n",
    "    return matrix"
   ]
  },
  {
   "cell_type": "code",
   "execution_count": 47,
   "metadata": {},
   "outputs": [
    {
     "data": {
      "text/plain": [
       "'rho_inf = np.array([0,rainfty,0,rbinfty,0,rcinfty])\\nrho_eq = np.zeros(3*n,dtype=float)\\nrho_eq[0:n//2] = ra_infty\\nrho_eq[n//2:n] = rainfty\\nrho_eq[n:n+n//2] = rb_infty\\nrho_eq[n+n//2:2*n] = rbinfty\\nrho_eq[2*n:2*n+n//2] = rc_infty\\nrho_eq[2*n+n//2:3*n] = rcinfty'"
      ]
     },
     "execution_count": 47,
     "metadata": {},
     "output_type": "execute_result"
    }
   ],
   "source": [
    "ra_no_norm = lambda x : kac * np.exp(-Eac) * 1 + kbc*1 + kbc*kac*np.exp(-Eac)\n",
    "rb_no_norm = lambda x : kac*np.exp(-Eac)*np.exp(V(x))+np.exp(V(x))*kbc+kac*np.exp(V(x))*kbc\n",
    "rc_no_norm = lambda x : kac*np.exp(V(x))*kbc+1*kac*np.exp(V(x))+np.exp(V(x))*kbc\n",
    "S = lambda x : ra_no_norm(x)+rb_no_norm(x)+rc_no_norm(x)\n",
    "ra_infty = lambda x : ra_no_norm(x)/S(x)\n",
    "rb_infty = lambda x : rb_no_norm(x)/S(x)\n",
    "rc_infty = lambda x :rc_no_norm(x)/S(x)\n",
    "\n",
    "\"\"\"rho_0 = np.array([0,ra_infty,0,rb_infty,0,rc_infty])\n",
    "ra_inf_nonorm = kac * np.exp(-Eac) * 1 + kbc*1 + kbc*kac*np.exp(-Eac)\n",
    "rb_inf_nonorm = kac*np.exp(-Eac)*np.exp(V0)+np.exp(V0)*kbc+kac*np.exp(V0)*kbc\n",
    "rc_inf_nonorm = kac*np.exp(V0)*kbc+1*kac*np.exp(V0)+np.exp(V0)*kbc\n",
    "S = ra_inf_nonorm+rb_inf_nonorm+rc_inf_nonorm\n",
    "rainfty = ra_inf_nonorm/S\n",
    "rbinfty = rb_inf_nonorm/S\n",
    "rcinfty = rc_inf_nonorm/S\"\"\"\n",
    "\n",
    "rho_eq = np.zeros(3*n,dtype=float)\n",
    "for i in range(n):\n",
    "    rho_eq[i] = ra_infty(i*dx+X0)\n",
    "    rho_eq[i+n] = rb_infty(i*dx+X0)\n",
    "    rho_eq[i+2*n] = rc_infty(i*dx+X0)\n",
    "\n",
    "\"\"\"rho_inf = np.array([0,rainfty,0,rbinfty,0,rcinfty])\n",
    "rho_eq = np.zeros(3*n,dtype=float)\n",
    "rho_eq[0:n//2] = ra_infty\n",
    "rho_eq[n//2:n] = rainfty\n",
    "rho_eq[n:n+n//2] = rb_infty\n",
    "rho_eq[n+n//2:2*n] = rbinfty\n",
    "rho_eq[2*n:2*n+n//2] = rc_infty\n",
    "rho_eq[2*n+n//2:3*n] = rcinfty\"\"\""
   ]
  },
  {
   "cell_type": "code",
   "execution_count": 48,
   "metadata": {},
   "outputs": [
    {
     "name": "stdout",
     "output_type": "stream",
     "text": [
      "[-102.0000908   100.00221757    0.            0.            0.\n",
      "    0.            0.            0.            0.            0.        ]\n",
      "[-102.0000908  100.           0.           0.           0.\n",
      "    0.           0.           0.           0.           0.       ]\n"
     ]
    }
   ],
   "source": [
    "mat = make_transition_matrix_2(V,dV,ddV,X0,Xf,n,kac,Eac,kbc)\n",
    "print(mat[0,:10])\n",
    "print(mat[:10,0])"
   ]
  },
  {
   "cell_type": "code",
   "execution_count": 49,
   "metadata": {},
   "outputs": [
    {
     "data": {
      "text/plain": [
       "[<matplotlib.lines.Line2D at 0x7f50d2b245e0>]"
      ]
     },
     "execution_count": 49,
     "metadata": {},
     "output_type": "execute_result"
    },
    {
     "data": {
      "image/png": "[encoded data removed]",
      "text/plain": [
       "<Figure size 432x288 with 2 Axes>"
      ]
     },
     "metadata": {
      "needs_background": "light"
     },
     "output_type": "display_data"
    }
   ],
   "source": [
    "fig,ax = plt.subplots(ncols= 2)\n",
    "ax[0].plot(np.sum(mat,axis=0))\n",
    "ax[1].plot(np.dot(mat,rho_eq))"
   ]
  },
  {
   "cell_type": "code",
   "execution_count": 50,
   "metadata": {},
   "outputs": [],
   "source": [
    "v,w = la.eig(mat)\n",
    "for i in range(v.shape[0]):\n",
    "    w[:,i] = abs(w[:,i])/sum(abs(w[:,i]))"
   ]
  },
  {
   "cell_type": "code",
   "execution_count": 55,
   "metadata": {},
   "outputs": [
    {
     "data": {
      "text/plain": [
       "(-2.2737367544323206e-13+0j)"
      ]
     },
     "execution_count": 55,
     "metadata": {},
     "output_type": "execute_result"
    }
   ],
   "source": [
    "v[np.argsort(v)[-1]]"
   ]
  },
  {
   "cell_type": "code",
   "execution_count": 52,
   "metadata": {},
   "outputs": [],
   "source": [
    "#w[:,np.argsort(v)[0]] = np.real(w[:,np.argsort(v)[0]]/(w[:,np.argsort(v)[0]][0]+w[:,np.argsort(v)[0]][n]+w[:,np.argsort(v)[0]][2*n]))\n",
    "rho_eq = rho_eq/sum(rho_eq)"
   ]
  },
  {
   "cell_type": "code",
   "execution_count": 53,
   "metadata": {},
   "outputs": [
    {
     "name": "stdout",
     "output_type": "stream",
     "text": [
      "(4.1924148326244635e-06+0j)\n"
     ]
    }
   ],
   "source": [
    "print(w[:,np.argsort(v)[0]][0])"
   ]
  },
  {
   "cell_type": "code",
   "execution_count": 56,
   "metadata": {},
   "outputs": [
    {
     "data": {
      "text/plain": [
       "[<matplotlib.lines.Line2D at 0x7f50d2981340>]"
      ]
     },
     "execution_count": 56,
     "metadata": {},
     "output_type": "execute_result"
    },
    {
     "data": {
      "image/png": "[encoded data removed]",
      "text/plain": [
       "<Figure size 432x288 with 1 Axes>"
      ]
     },
     "metadata": {
      "needs_background": "light"
     },
     "output_type": "display_data"
    }
   ],
   "source": [
    "plt.plot(np.linspace(X0,Xf,n),np.real(w[:,np.argsort(v)[-1]][:n]))\n",
    "plt.plot(np.linspace(X0,Xf,n),np.real(w[:,np.argsort(v)[-1]][n:2*n]))\n",
    "plt.plot(np.linspace(X0,Xf,n),np.real(w[:,np.argsort(v)[-1]][2*n:3*n]))\n",
    "plt.plot(np.linspace(X0,Xf,n),rho_eq[:n],linestyle='--')\n",
    "plt.plot(np.linspace(X0,Xf,n),rho_eq[n:2*n],linestyle='--')\n",
    "plt.plot(np.linspace(X0,Xf,n),rho_eq[2*n:3*n],linestyle='--')\n",
    "#plt.plot(np.linspace(X0,Xf,n),V(np.linspace(X0,Xf,n))/sum(V(np.linspace(X0,Xf,n))))"
   ]
  },
  {
   "cell_type": "code",
   "execution_count": 212,
   "metadata": {},
   "outputs": [],
   "source": [
    "#h = dx\n",
    "h=0.001"
   ]
  },
  {
   "cell_type": "code",
   "execution_count": 259,
   "metadata": {},
   "outputs": [],
   "source": [
    "from scipy.linalg import null_space\n",
    "from scipy.linalg import solve\n",
    "from scipy.linalg import lstsq\n",
    "from copy import copy"
   ]
  },
  {
   "cell_type": "code",
   "execution_count": 260,
   "metadata": {},
   "outputs": [
    {
     "ename": "ValueError",
     "evalue": "Too large work array required -- computation cannot be performed with standard 32-bit LAPACK.",
     "output_type": "error",
     "traceback": [
      "\u001b[0;31m---------------------------------------------------------------------------\u001b[0m",
      "\u001b[0;31mValueError\u001b[0m                                Traceback (most recent call last)",
      "\u001b[1;32m/home/hcleroy/PostDoc/active_phase_separation/computation/smooth_interface_diagonalize.ipynb Cell 20\u001b[0m in \u001b[0;36m<cell line: 1>\u001b[0;34m()\u001b[0m\n\u001b[0;32m----> <a href='vscode-notebook-cell:/home/hcleroy/PostDoc/active_phase_separation/computation/smooth_interface_diagonalize.ipynb#X32sZmlsZQ%3D%3D?line=0'>1</a>\u001b[0m W_p \u001b[39m=\u001b[39m null_space(mat)\n",
      "File \u001b[0;32m~/anaconda3/lib/python3.8/site-packages/scipy/linalg/decomp_svd.py:384\u001b[0m, in \u001b[0;36mnull_space\u001b[0;34m(A, rcond)\u001b[0m\n\u001b[1;32m    331\u001b[0m \u001b[39mdef\u001b[39;00m \u001b[39mnull_space\u001b[39m(A, rcond\u001b[39m=\u001b[39m\u001b[39mNone\u001b[39;00m):\n\u001b[1;32m    332\u001b[0m     \u001b[39m\"\"\"\u001b[39;00m\n\u001b[1;32m    333\u001b[0m \u001b[39m    Construct an orthonormal basis for the null space of A using SVD\u001b[39;00m\n\u001b[1;32m    334\u001b[0m \n\u001b[0;32m   (...)\u001b[0m\n\u001b[1;32m    382\u001b[0m \n\u001b[1;32m    383\u001b[0m \u001b[39m    \"\"\"\u001b[39;00m\n\u001b[0;32m--> 384\u001b[0m     u, s, vh \u001b[39m=\u001b[39m svd(A, full_matrices\u001b[39m=\u001b[39;49m\u001b[39mTrue\u001b[39;49;00m)\n\u001b[1;32m    385\u001b[0m     M, N \u001b[39m=\u001b[39m u\u001b[39m.\u001b[39mshape[\u001b[39m0\u001b[39m], vh\u001b[39m.\u001b[39mshape[\u001b[39m1\u001b[39m]\n\u001b[1;32m    386\u001b[0m     \u001b[39mif\u001b[39;00m rcond \u001b[39mis\u001b[39;00m \u001b[39mNone\u001b[39;00m:\n",
      "File \u001b[0;32m~/anaconda3/lib/python3.8/site-packages/scipy/linalg/decomp_svd.py:123\u001b[0m, in \u001b[0;36msvd\u001b[0;34m(a, full_matrices, compute_uv, overwrite_a, check_finite, lapack_driver)\u001b[0m\n\u001b[1;32m    120\u001b[0m gesXd, gesXd_lwork \u001b[39m=\u001b[39m get_lapack_funcs(funcs, (a1,), ilp64\u001b[39m=\u001b[39m\u001b[39m'\u001b[39m\u001b[39mpreferred\u001b[39m\u001b[39m'\u001b[39m)\n\u001b[1;32m    122\u001b[0m \u001b[39m# compute optimal lwork\u001b[39;00m\n\u001b[0;32m--> 123\u001b[0m lwork \u001b[39m=\u001b[39m _compute_lwork(gesXd_lwork, a1\u001b[39m.\u001b[39;49mshape[\u001b[39m0\u001b[39;49m], a1\u001b[39m.\u001b[39;49mshape[\u001b[39m1\u001b[39;49m],\n\u001b[1;32m    124\u001b[0m                        compute_uv\u001b[39m=\u001b[39;49mcompute_uv, full_matrices\u001b[39m=\u001b[39;49mfull_matrices)\n\u001b[1;32m    126\u001b[0m \u001b[39m# perform decomposition\u001b[39;00m\n\u001b[1;32m    127\u001b[0m u, s, v, info \u001b[39m=\u001b[39m gesXd(a1, compute_uv\u001b[39m=\u001b[39mcompute_uv, lwork\u001b[39m=\u001b[39mlwork,\n\u001b[1;32m    128\u001b[0m                       full_matrices\u001b[39m=\u001b[39mfull_matrices, overwrite_a\u001b[39m=\u001b[39moverwrite_a)\n",
      "File \u001b[0;32m~/anaconda3/lib/python3.8/site-packages/scipy/linalg/lapack.py:1023\u001b[0m, in \u001b[0;36m_compute_lwork\u001b[0;34m(routine, *args, **kwargs)\u001b[0m\n\u001b[1;32m   1019\u001b[0m     \u001b[39mraise\u001b[39;00m \u001b[39mValueError\u001b[39;00m(\u001b[39m\"\u001b[39m\u001b[39mInternal work array size computation failed: \u001b[39m\u001b[39m\"\u001b[39m\n\u001b[1;32m   1020\u001b[0m                      \u001b[39m\"\u001b[39m\u001b[39m%d\u001b[39;00m\u001b[39m\"\u001b[39m \u001b[39m%\u001b[39m (ret[\u001b[39m-\u001b[39m\u001b[39m1\u001b[39m],))\n\u001b[1;32m   1022\u001b[0m \u001b[39mif\u001b[39;00m \u001b[39mlen\u001b[39m(ret) \u001b[39m==\u001b[39m \u001b[39m2\u001b[39m:\n\u001b[0;32m-> 1023\u001b[0m     \u001b[39mreturn\u001b[39;00m _check_work_float(ret[\u001b[39m0\u001b[39;49m]\u001b[39m.\u001b[39;49mreal, dtype, int_dtype)\n\u001b[1;32m   1024\u001b[0m \u001b[39melse\u001b[39;00m:\n\u001b[1;32m   1025\u001b[0m     \u001b[39mreturn\u001b[39;00m \u001b[39mtuple\u001b[39m(_check_work_float(x\u001b[39m.\u001b[39mreal, dtype, int_dtype)\n\u001b[1;32m   1026\u001b[0m                  \u001b[39mfor\u001b[39;00m x \u001b[39min\u001b[39;00m ret[:\u001b[39m-\u001b[39m\u001b[39m1\u001b[39m])\n",
      "File \u001b[0;32m~/anaconda3/lib/python3.8/site-packages/scipy/linalg/lapack.py:1043\u001b[0m, in \u001b[0;36m_check_work_float\u001b[0;34m(value, dtype, int_dtype)\u001b[0m\n\u001b[1;32m   1041\u001b[0m \u001b[39mif\u001b[39;00m int_dtype\u001b[39m.\u001b[39mitemsize \u001b[39m==\u001b[39m \u001b[39m4\u001b[39m:\n\u001b[1;32m   1042\u001b[0m     \u001b[39mif\u001b[39;00m value \u001b[39m<\u001b[39m \u001b[39m0\u001b[39m \u001b[39mor\u001b[39;00m value \u001b[39m>\u001b[39m _int32_max:\n\u001b[0;32m-> 1043\u001b[0m         \u001b[39mraise\u001b[39;00m \u001b[39mValueError\u001b[39;00m(\u001b[39m\"\u001b[39m\u001b[39mToo large work array required -- computation \u001b[39m\u001b[39m\"\u001b[39m\n\u001b[1;32m   1044\u001b[0m                          \u001b[39m\"\u001b[39m\u001b[39mcannot be performed with standard 32-bit\u001b[39m\u001b[39m\"\u001b[39m\n\u001b[1;32m   1045\u001b[0m                          \u001b[39m\"\u001b[39m\u001b[39m LAPACK.\u001b[39m\u001b[39m\"\u001b[39m)\n\u001b[1;32m   1046\u001b[0m \u001b[39melif\u001b[39;00m int_dtype\u001b[39m.\u001b[39mitemsize \u001b[39m==\u001b[39m \u001b[39m8\u001b[39m:\n\u001b[1;32m   1047\u001b[0m     \u001b[39mif\u001b[39;00m value \u001b[39m<\u001b[39m \u001b[39m0\u001b[39m \u001b[39mor\u001b[39;00m value \u001b[39m>\u001b[39m _int64_max:\n",
      "\u001b[0;31mValueError\u001b[0m: Too large work array required -- computation cannot be performed with standard 32-bit LAPACK."
     ]
    }
   ],
   "source": [
    "W_p = null_space(mat)"
   ]
  },
  {
   "cell_type": "code",
   "execution_count": null,
   "metadata": {},
   "outputs": [],
   "source": [
    "W_p = abs(W_p)/sum(abs(W_p))"
   ]
  },
  {
   "cell_type": "code",
   "execution_count": null,
   "metadata": {},
   "outputs": [
    {
     "data": {
      "text/plain": [
       "[<matplotlib.lines.Line2D at 0x7f38800faf10>]"
      ]
     },
     "execution_count": 232,
     "metadata": {},
     "output_type": "execute_result"
    },
    {
     "data": {
      "image/png": "[encoded data removed]",
      "text/plain": [
       "<Figure size 432x288 with 1 Axes>"
      ]
     },
     "metadata": {
      "needs_background": "light"
     },
     "output_type": "display_data"
    }
   ],
   "source": [
    "plt.plot(np.linspace(X0,Xf,n),np.real(W_p[:n]))\n",
    "plt.plot(np.linspace(X0,Xf,n),np.real(W_p[n:2*n]))\n",
    "plt.plot(np.linspace(X0,Xf,n),np.real(W_p[2*n:3*n]))\n",
    "plt.plot(np.linspace(X0,Xf,n),rho_eq[:n],linestyle='--')\n",
    "plt.plot(np.linspace(X0,Xf,n),rho_eq[n:2*n],linestyle='--')\n",
    "plt.plot(np.linspace(X0,Xf,n),rho_eq[2*n:3*n],linestyle='--')"
   ]
  },
  {
   "cell_type": "code",
   "execution_count": 261,
   "metadata": {},
   "outputs": [
    {
     "ename": "",
     "evalue": "",
     "output_type": "error",
     "traceback": [
      "\u001b[1;31mThe Kernel crashed while executing code in the the current cell or a previous cell. Please review the code in the cell(s) to identify a possible cause of the failure. Click <a href='https://aka.ms/vscodeJupyterKernelCrash'>here</a> for more info. View Jupyter <a href='command:jupyter.viewOutput'>log</a> for further details."
     ]
    },
    {
     "ename": "",
     "evalue": "",
     "output_type": "error",
     "traceback": [
      "\u001b[1;31mCanceled future for execute_request message before replies were done"
     ]
    }
   ],
   "source": [
    "mat_b = copy(mat)\n",
    "b = mat_b[:, 0].copy()\n",
    "\n",
    "W_pp = lstsq(mat_b[:,1:],-b)[0]\n",
    "\n",
    "W_pp = np.r_[1,W_pp]\n",
    "W_pp = abs(W_pp)/(sum(abs(W_pp)))"
   ]
  },
  {
   "cell_type": "code",
   "execution_count": null,
   "metadata": {},
   "outputs": [
    {
     "data": {
      "text/plain": [
       "[<matplotlib.lines.Line2D at 0x7f387fbd2bb0>]"
      ]
     },
     "execution_count": 252,
     "metadata": {},
     "output_type": "execute_result"
    },
    {
     "data": {
      "image/png": "[encoded data removed]",
      "text/plain": [
       "<Figure size 432x288 with 1 Axes>"
      ]
     },
     "metadata": {
      "needs_background": "light"
     },
     "output_type": "display_data"
    }
   ],
   "source": [
    "plt.plot(np.linspace(X0,Xf,n),np.real(W_pp[:n]))\n",
    "plt.plot(np.linspace(X0,Xf,n),np.real(W_pp[n:2*n]))\n",
    "plt.plot(np.linspace(X0,Xf,n),np.real(W_pp[2*n:3*n]))\n",
    "plt.plot(np.linspace(X0,Xf,n),rho_eq[:n],linestyle='--')\n",
    "plt.plot(np.linspace(X0,Xf,n),rho_eq[n:2*n],linestyle='--')\n",
    "plt.plot(np.linspace(X0,Xf,n),rho_eq[2*n:3*n],linestyle='--')"
   ]
  },
  {
   "cell_type": "code",
   "execution_count": null,
   "metadata": {},
   "outputs": [],
   "source": []
  }
 ],
 "metadata": {
  "kernelspec": {
   "display_name": "Python 3.8.8 ('base')",
   "language": "python",
   "name": "python3"
  },
  "language_info": {
   "codemirror_mode": {
    "name": "ipython",
    "version": 3
   },
   "file_extension": ".py",
   "mimetype": "text/x-python",
   "name": "python",
   "nbconvert_exporter": "python",
   "pygments_lexer": "ipython3",
   "version": "3.8.8"
  },
  "orig_nbformat": 4,
  "vscode": {
   "interpreter": {
    "hash": "1d5eeb8876f044179b361bcddd340056e6c77a1f8539f3472ec98ae68ef2c035"
   }
  }
 },
 "nbformat": 4,
 "nbformat_minor": 2
}
