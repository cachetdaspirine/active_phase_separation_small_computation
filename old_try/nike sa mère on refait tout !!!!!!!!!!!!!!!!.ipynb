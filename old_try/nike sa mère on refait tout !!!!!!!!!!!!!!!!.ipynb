{
 "cells": [
  {
   "cell_type": "code",
   "execution_count": 2,
   "metadata": {},
   "outputs": [],
   "source": [
    "import numpy as np\n",
    "import numpy.linalg as la"
   ]
  },
  {
   "cell_type": "code",
   "execution_count": 3,
   "metadata": {},
   "outputs": [],
   "source": [
    "kac = 1.\n",
    "Eac = 0.1\n",
    "V0 = 1.\n",
    "kbc =1."
   ]
  },
  {
   "cell_type": "code",
   "execution_count": 9,
   "metadata": {},
   "outputs": [
    {
     "name": "stdout",
     "output_type": "stream",
     "text": [
      "[[-5.43656366  1.          0.90483742]\n",
      " [ 2.71828183 -2.          1.        ]\n",
      " [ 2.71828183  1.         -1.90483742]]\n",
      "[0. 0. 0.]\n"
     ]
    }
   ],
   "source": [
    "Omega = np.zeros((3,3),dtype=float)\n",
    "Omega[0,0] = - (kac+1)*np.exp(V0)\n",
    "Omega[0,1] = 1\n",
    "Omega[0,2] = kac*np.exp(-Eac)\n",
    "Omega[1,0] = np.exp(V0)\n",
    "Omega[1,1] =-kbc-1\n",
    "Omega[1,2] = kbc\n",
    "Omega[2,0] =kac*np.exp(V0)\n",
    "Omega[2,1] = kbc\n",
    "Omega[2,2] = -kac*np.exp(-Eac)-kbc\n",
    "print(Omega)\n",
    "print(np.sum(Omega,axis=0))"
   ]
  },
  {
   "cell_type": "code",
   "execution_count": 21,
   "metadata": {},
   "outputs": [
    {
     "name": "stdout",
     "output_type": "stream",
     "text": [
      "[0.14896991 0.41865743 0.43237266]\n"
     ]
    }
   ],
   "source": [
    "ra_no_norm = kac * np.exp(-Eac) * 1 + kbc*1 + kbc*kac*np.exp(-Eac)\n",
    "rb_no_norm = kac*np.exp(-Eac)*np.exp(0)+np.exp(0)*kbc+kac*np.exp(0)*kbc\n",
    "rc_no_norm = kac*np.exp(0)*kbc+1*kac*np.exp(0)+np.exp(0)*kbc\n",
    "S = ra_no_norm+rb_no_norm+rc_no_norm\n",
    "ra_infty = ra_no_norm/S\n",
    "rb_infty = rb_no_norm/S\n",
    "rc_infty = rc_no_norm/S\n",
    "\n",
    "rho_0 = np.array([0,ra_infty,0,rb_infty,0,rc_infty])\n",
    "ra_inf_nonorm = kac * np.exp(-Eac) * 1 + kbc*1 + kbc*kac*np.exp(-Eac)\n",
    "rb_inf_nonorm = kac*np.exp(-Eac)*np.exp(V0)+np.exp(V0)*kbc+kac*np.exp(V0)*kbc\n",
    "rc_inf_nonorm = kac*np.exp(V0)*kbc+1*kac*np.exp(V0)+np.exp(V0)*kbc\n",
    "S = ra_inf_nonorm+rb_inf_nonorm+rc_inf_nonorm\n",
    "rainfty = ra_inf_nonorm/S\n",
    "rbinfty = rb_inf_nonorm/S\n",
    "rcinfty = rc_inf_nonorm/S\n",
    "\n",
    "rho_eq = np.zeros(3,dtype=float)\n",
    "rho_eqV = np.zeros(3,dtype=float)\n",
    "rho_eq[0] = ra_infty\n",
    "rho_eqV[0] = rainfty\n",
    "rho_eq[1] = rb_infty\n",
    "rho_eqV[1] = rbinfty\n",
    "rho_eq[2] = rc_infty\n",
    "rho_eqV[2] = rcinfty\n",
    "\n",
    "print(rho_eqV)"
   ]
  },
  {
   "cell_type": "code",
   "execution_count": 11,
   "metadata": {},
   "outputs": [
    {
     "data": {
      "text/plain": [
       "array([-1.19910833e-16,  1.11022302e-16, -4.66226208e-17])"
      ]
     },
     "execution_count": 11,
     "metadata": {},
     "output_type": "execute_result"
    }
   ],
   "source": [
    "np.dot(Omega,rho_eqV)"
   ]
  },
  {
   "cell_type": "code",
   "execution_count": 38,
   "metadata": {},
   "outputs": [],
   "source": [
    "v,w = la.eig(Omega)\n",
    "for i in range(v.shape[0]):\n",
    "    w[:,i] = w[:,i]/sum(abs(w[:,i]))"
   ]
  },
  {
   "cell_type": "code",
   "execution_count": 39,
   "metadata": {},
   "outputs": [
    {
     "name": "stdout",
     "output_type": "stream",
     "text": [
      "[-6.38964103e+00 -1.80411242e-16 -2.95176004e+00]\n",
      "[[-0.5         0.14896991 -0.01365394]\n",
      " [ 0.25346074  0.41865743 -0.48634606]\n",
      " [ 0.24653926  0.43237266  0.5       ]]\n"
     ]
    }
   ],
   "source": [
    "print(v)\n",
    "print(w)\n"
   ]
  },
  {
   "cell_type": "code",
   "execution_count": 18,
   "metadata": {},
   "outputs": [
    {
     "name": "stdout",
     "output_type": "stream",
     "text": [
      "[0.25361416 0.27870677 0.28431659]\n"
     ]
    }
   ],
   "source": [
    "print(w[2]-rho_eqV)"
   ]
  },
  {
   "cell_type": "code",
   "execution_count": 28,
   "metadata": {},
   "outputs": [
    {
     "data": {
      "text/plain": [
       "array([[-0.81647051,  0.24027024, -0.01957126],\n",
       "       [ 0.41388643,  0.67524321, -0.69711799],\n",
       "       [ 0.40258407,  0.6973642 ,  0.71668925]])"
      ]
     },
     "execution_count": 28,
     "metadata": {},
     "output_type": "execute_result"
    }
   ],
   "source": [
    "w"
   ]
  },
  {
   "cell_type": "code",
   "execution_count": 30,
   "metadata": {},
   "outputs": [
    {
     "data": {
      "text/plain": [
       "array([0.14896991, 0.41865743, 0.43237266])"
      ]
     },
     "execution_count": 30,
     "metadata": {},
     "output_type": "execute_result"
    }
   ],
   "source": []
  },
  {
   "cell_type": "code",
   "execution_count": null,
   "metadata": {},
   "outputs": [],
   "source": []
  }
 ],
 "metadata": {
  "kernelspec": {
   "display_name": "Python 3.8.8 ('base')",
   "language": "python",
   "name": "python3"
  },
  "language_info": {
   "codemirror_mode": {
    "name": "ipython",
    "version": 3
   },
   "file_extension": ".py",
   "mimetype": "text/x-python",
   "name": "python",
   "nbconvert_exporter": "python",
   "pygments_lexer": "ipython3",
   "version": "3.8.8"
  },
  "orig_nbformat": 4,
  "vscode": {
   "interpreter": {
    "hash": "1d5eeb8876f044179b361bcddd340056e6c77a1f8539f3472ec98ae68ef2c035"
   }
  }
 },
 "nbformat": 4,
 "nbformat_minor": 2
}
