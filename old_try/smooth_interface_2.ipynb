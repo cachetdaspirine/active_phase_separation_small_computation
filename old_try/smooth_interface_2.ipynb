{
 "cells": [
  {
   "cell_type": "code",
   "execution_count": 1,
   "metadata": {},
   "outputs": [],
   "source": [
    "import numpy as np\n",
    "import numpy.linalg as la\n",
    "import matplotlib.pyplot as plt"
   ]
  },
  {
   "cell_type": "markdown",
   "metadata": {},
   "source": [
    "## units of the simulation \n",
    "- $L = \\sqrt{D/k_{ab}^0}$\n",
    "- $T = 1/k_{ab}^0$\n",
    "- $E = 1/\\beta$\n",
    "## parameters of the simulation \n",
    "- $k_{bc}^0 = 1$ : equal to $k_{ab}^0$\n",
    "- $k_{ac}^0 = 1$ : equal to $k_{ab}^0$\n",
    "- $\\epsilon_{ac}$ = 0.1\n",
    "- $V$ = 1."
   ]
  },
  {
   "cell_type": "code",
   "execution_count": 2,
   "metadata": {},
   "outputs": [],
   "source": [
    "kbc = 1.\n",
    "kac = 1.\n",
    "Eac = 0.1\n",
    "V0 = 1."
   ]
  },
  {
   "cell_type": "markdown",
   "metadata": {},
   "source": [
    "## Equation differential of the problem :\n",
    "$$ \n",
    "\\begin{cases}\n",
    "& [\\partial_x \\rho_a]' = -\\partial_x\\rho_a \\partial_x V - \\rho_a \\partial_x^2 V - \\rho_b k_{ba} - \\rho_c k_{ca} + \\rho_a(k_{ac}+k_{ab})\\\\\n",
    "& \\rho_a' = \\partial_x \\rho_a \\\\\n",
    "& [\\partial_x \\rho_b]' = -k_{ab} \\rho_a - k_{cb} \\rho_c + \\rho_b(k_{bc}+k_{ba})\\\\\n",
    "& \\rho_b' = \\partial_x \\rho_b \\\\\n",
    "& \\rho_c = 1-\\rho_a-\\rho_b\n",
    "\\end{cases}\n",
    "$$\n",
    "Thus we write a system for $\\rho_a$ and $\\rho_b$ :\n",
    "$$ \n",
    "\\begin{cases}\n",
    "& [\\partial_x \\rho_a]' = -\\partial_x\\rho_a \\partial_x V - \\rho_a \\partial_x^2 V - \\rho_b k_{ba} - (1-\\rho_a-\\rho_b) k_{ca} + \\rho_a(k_{ac}+k_{ab})\\\\\n",
    "& \\rho_a' = \\partial_x \\rho_a \\\\\n",
    "& [\\partial_x \\rho_b]' = -k_{ab} \\rho_a - k_{cb} (1-\\rho_a-\\rho_b) + \\rho_b(k_{bc}+k_{ba})\\\\\n",
    "& \\rho_b' = \\partial_x \\rho_b \\\\\n",
    "\\end{cases}\n",
    "$$\n",
    "with :\n",
    "$$\n",
    "\\begin{cases}\n",
    "&k_{ab} = e^V \\hspace{1cm} k_{bc} = k_{bc}^0 \\hspace{1cm} k_{ac} = k_{ac}^0e^V\\\\\n",
    "&k_{ba} = 1 \\hspace{1cm} k_{cb} = k_{bc}^0 \\hspace{1cm} k_{ca} = k_{ac}^0 e^{-\\epsilon_{ac}}\n",
    "\\end{cases}\n",
    "$$\n",
    "We define $\\bar{\\rho} = \\{\\partial_x\\rho_a, \\rho_a,\\partial_x\\rho_b,\\rho_b\\}$\n"
   ]
  },
  {
   "cell_type": "markdown",
   "metadata": {},
   "source": [
    "And the associate matrix :\n",
    "$$\n",
    "P = \n",
    "\\begin{bmatrix}\n",
    "-\\partial_xV & -\\partial_x^2V+2k_{ac}^0e^V+e^V & 0 & -1 + k_{ac}^0e^V \\\\\n",
    "1 & 0 & 0 & 0  \\\\\n",
    "0 & -e^V +k_{bc}^0& 0 & 2*k_{bc}^0+1  \\\\\n",
    "0 & 0 & 1 & 0 \\\\\n",
    "\\end{bmatrix}\n",
    "$$\n",
    "$$\n",
    "B = \\begin{bmatrix} &-k_{ac}^0 e^V\\\\ & 0\\\\ & -k_{bc}^0\\\\ & 0 \\end{bmatrix}\n",
    "$$\n",
    "So that we get : \n",
    "$$\n",
    "\\bar{\\rho}' = P \\bar{\\rho} + B\n",
    "$$"
   ]
  },
  {
   "cell_type": "code",
   "execution_count": 7,
   "metadata": {},
   "outputs": [
    {
     "name": "stdout",
     "output_type": "stream",
     "text": [
      "step size : 0.002\n"
     ]
    }
   ],
   "source": [
    "def P(V,dV,ddV,x):\n",
    "    return np.array([[-dV(x), -ddV(x) + (2*kac+1)*np.exp(V(x)),0,-1+kac*np.exp(V(x))],\n",
    "                    [1,0,0,0],\n",
    "                    [0,-np.exp(V(x))+kbc,0,2*kbc+1],\n",
    "                    [0,0,1,0]])\n",
    "def B(V,x):\n",
    "    return np.array([-kac*np.exp(V(x)),0,-kbc,0])\n",
    "#V = lambda x : 0.5*(1+np.tanh(x)) * V0\n",
    "#dV = lambda x : 1/np.cosh(x)**2 * V0\n",
    "#ddV = lambda x : -2/np.cosh(x)**2 * np.tanh(x) * V0\n",
    "def V(x) :\n",
    "    if x<0:\n",
    "        return 0.\n",
    "    else :\n",
    "        return V0\n",
    "dV = lambda x : 0\n",
    "ddV = lambda x : 0\n",
    "# We write the function f that takes two arguments : X (the position in space) and Y\n",
    "# the value of the vector rho at X. The function simply returns the derivative of the\n",
    "# vector rho at X\n",
    "def f(X,Y):\n",
    "    mat = P(V,dV,ddV,X)\n",
    "    return np.dot(Y,mat) + B(V,X)\n",
    "\n",
    "X0 = -10 # left most boundary condition\n",
    "Xf = 10 # right most boundary at which we will perform the numerical resolution\n",
    "n = 10000 # number of point use\n",
    "h = (Xf-X0)/n # size of the step\n",
    "print(\"step size : \"+str(h))\n",
    "def rk4(f,xn,yn):\n",
    "    k1 = h * (f(xn, yn))\n",
    "    k2 = h * (f((xn+h/2), (yn+k1/2)))\n",
    "    k3 = h * (f((xn+h/2), (yn+k2/2)))\n",
    "    k4 = h * (f((xn+h), (yn+k3)))\n",
    "    k = (k1+2*k2+2*k3+k4)/6\n",
    "    return yn + k"
   ]
  },
  {
   "cell_type": "markdown",
   "metadata": {},
   "source": [
    "## Boundary conditions :\n",
    "We only us left side boundary conditions (is it an issue ?). Far from the interface, where the potential is 0, the solution is the one given by the chemical steady state : \n",
    "$$\n",
    "\\begin{cases}\n",
    "& \\partial_x \\rho_a^{-\\infty} = 0 \\\\\n",
    "& \\rho_a^{-\\infty} = (k_{ca}k_{ba} + k_{cb}k_{ba} + k_{bc}k_{ca})/S \\\\\n",
    "& \\partial_x\\rho_b^{-\\infty} = 0 \\\\\n",
    "& \\rho_b^{-\\infty} = (k_{ca}k_{ab} + k_{ab}k_{cb} + k_{ac}k_{cb})/S \\\\\n",
    "\\end{cases}\n",
    "$$\n",
    "with $S = k_{ca}k_{ba} + k_{cb}k_{ba} + k_{bc}k_{ca} + k_{ca}k_{ab} + k_{ab}k_{cb} + k_{ac}k_{cb} + k_{ac}k_{bc} + k_{ba}k_{ac} + k_{ab}k_{bc}$"
   ]
  },
  {
   "cell_type": "code",
   "execution_count": 17,
   "metadata": {},
   "outputs": [],
   "source": [
    "ra_no_norm = kac * np.exp(-Eac) * 1 + kbc*1 + kbc*kac*np.exp(-Eac)\n",
    "rb_no_norm = kac*np.exp(-Eac)*np.exp(0)+np.exp(0)*kbc+kac*np.exp(0)*kbc\n",
    "rc_no_norm = kac*np.exp(0)*kbc+1*kac*np.exp(0)+np.exp(0)*kbc\n",
    "S = ra_no_norm+rb_no_norm#+rc_no_norm\n",
    "ra_infty = ra_no_norm/S\n",
    "rb_infty = rb_no_norm/S\n",
    "rc_infty = rc_no_norm/S\n",
    "\n",
    "rho_0 = np.array([0,ra_infty,0,rb_infty])"
   ]
  },
  {
   "cell_type": "markdown",
   "metadata": {},
   "source": [
    "## Perform the numerical solution"
   ]
  },
  {
   "cell_type": "code",
   "execution_count": 10,
   "metadata": {},
   "outputs": [],
   "source": [
    "rho_x = np.zeros((4,n),dtype=float)\n",
    "x = X0\n",
    "rho = rho_0\n",
    "for step in range(n):\n",
    "    rho = rk4(f,x,rho)\n",
    "    x += h\n",
    "    rho_x[:,step] = rho"
   ]
  },
  {
   "cell_type": "code",
   "execution_count": 11,
   "metadata": {},
   "outputs": [
    {
     "data": {
      "text/plain": [
       "[<matplotlib.lines.Line2D at 0x7f0794038790>]"
      ]
     },
     "execution_count": 11,
     "metadata": {},
     "output_type": "execute_result"
    },
    {
     "data": {
      "image/png": "[encoded data removed]",
      "text/plain": [
       "<Figure size 432x288 with 1 Axes>"
      ]
     },
     "metadata": {
      "needs_background": "light"
     },
     "output_type": "display_data"
    }
   ],
   "source": [
    "plt.plot(np.linspace(X0,Xf,n),rho_x[1,:])"
   ]
  },
  {
   "cell_type": "code",
   "execution_count": 18,
   "metadata": {},
   "outputs": [],
   "source": [
    "rho_t = rho_0"
   ]
  },
  {
   "cell_type": "code",
   "execution_count": 19,
   "metadata": {},
   "outputs": [
    {
     "name": "stdout",
     "output_type": "stream",
     "text": [
      "[-4.68345705 -7.61957036 -4.53002683 -7.36995295]\n"
     ]
    }
   ],
   "source": [
    "for n in range(1000):\n",
    "    rho_t = rk4(f,-1,rho_t)\n",
    "print(rho_t-rho_0)"
   ]
  },
  {
   "cell_type": "code",
   "execution_count": 65,
   "metadata": {},
   "outputs": [
    {
     "data": {
      "text/plain": [
       "2.0611536366565986e-09"
      ]
     },
     "execution_count": 65,
     "metadata": {},
     "output_type": "execute_result"
    }
   ],
   "source": []
  },
  {
   "cell_type": "code",
   "execution_count": null,
   "metadata": {},
   "outputs": [],
   "source": []
  }
 ],
 "metadata": {
  "kernelspec": {
   "display_name": "Python 3.8.8 ('base')",
   "language": "python",
   "name": "python3"
  },
  "language_info": {
   "codemirror_mode": {
    "name": "ipython",
    "version": 3
   },
   "file_extension": ".py",
   "mimetype": "text/x-python",
   "name": "python",
   "nbconvert_exporter": "python",
   "pygments_lexer": "ipython3",
   "version": "3.8.8"
  },
  "orig_nbformat": 4,
  "vscode": {
   "interpreter": {
    "hash": "1d5eeb8876f044179b361bcddd340056e6c77a1f8539f3472ec98ae68ef2c035"
   }
  }
 },
 "nbformat": 4,
 "nbformat_minor": 2
}
