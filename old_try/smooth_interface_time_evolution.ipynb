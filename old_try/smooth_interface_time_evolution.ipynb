{
 "cells": [
  {
   "cell_type": "code",
   "execution_count": 3,
   "metadata": {},
   "outputs": [],
   "source": [
    "import numpy as np\n",
    "import numpy.linalg as la\n",
    "import matplotlib.pyplot as plt"
   ]
  },
  {
   "cell_type": "markdown",
   "metadata": {},
   "source": [
    "## units of the simulation \n",
    "- $L = \\sqrt{D/k_{ab}^0}$\n",
    "- $T = 1/k_{ab}^0$\n",
    "- $E = 1/\\beta$\n",
    "## parameters of the simulation \n",
    "- $k_{bc}^0 = 1$ : equal to $k_{ab}^0$\n",
    "- $k_{ac}^0 = 1$ : equal to $k_{ab}^0$\n",
    "- $\\epsilon_{ac}$ = 0.1\n",
    "- $V$ = 1."
   ]
  },
  {
   "cell_type": "code",
   "execution_count": 10,
   "metadata": {},
   "outputs": [],
   "source": [
    "kbc = 1.\n",
    "kac = 1.\n",
    "Eac = 0.1\n",
    "V0 = 1.\n",
    "\n",
    "X0 = -1 # left most boundary condition\n",
    "Xf = 1 # right most boundary at which we will perform the numerical resolution\n",
    "n = 100 # number of point use for space\n",
    "dx = (Xf-X0)/n # size of the step"
   ]
  },
  {
   "cell_type": "markdown",
   "metadata": {},
   "source": [
    "## Equation differential of the problem :\n",
    "$$ \n",
    "\\begin{cases}\n",
    "& \\partial_t \\rho_a = \\partial_x^2 \\rho_a +\\partial_x\\rho_a \\partial_x V + \\rho_a \\partial_x^2 V + \\rho_b k_{ba} + \\rho_c k_{ca} - \\rho_a(k_{ac}+k_{ab})\\\\\n",
    "&\\partial_t \\rho_b =  \\partial_x^2 \\rho_b +k_{ab} \\rho_a + k_{cb} \\rho_c - \\rho_b(k_{bc}+k_{ba})\\\\\n",
    "& \\partial_t \\rho_c = \\partial_x^2 \\rho_c +k_{ac} \\rho_a + k_{bc} \\rho_b - \\rho_c(k_{ca}+k_{cb})\\\\\n",
    "\\end{cases}\n",
    "$$\n",
    "with :\n",
    "$$\n",
    "\\begin{cases}\n",
    "&k_{ab} = e^V \\hspace{1cm} k_{bc} = k_{bc}^0 \\hspace{1cm} k_{ac} = k_{ac}^0e^V\\\\\n",
    "&k_{ba} = 1 \\hspace{1cm} k_{cb} = k_{bc}^0 \\hspace{1cm} k_{ca} = k_{ac}^0 e^{-\\epsilon_{ac}}\n",
    "\\end{cases}\n",
    "$$\n",
    "We define $\\bar{\\rho} = \\{\\rho_i(x+dx), \\rho_i(x), \\rho_i(x-dx)\\}_i$, with $i = a,b,c$\n"
   ]
  },
  {
   "cell_type": "markdown",
   "metadata": {},
   "source": [
    "And the associate matrix :\n",
    "$$\n",
    "P = \n",
    "\\begin{bmatrix}\n",
    "-\\partial_xV & -\\partial_x^2V+k_{ac}^0e^V+e^V & 0 & -1 & 0 & -k_{ac}^0 e^{-\\epsilon_{ac}} \\\\\n",
    "1 & 0 & 0 & 0 & 0 & 0 \\\\\n",
    "0 & -e^V & 0 & k_{bc}^0+1 & 0 & -k_{bc}^0 \\\\\n",
    "0 & 0 & 1 & 0 & 0 & 0 \\\\\n",
    "0 & -k_{ac}^0 e^V & 0 & -k_{bc}^0  &0 & k_{ac}^0 e^{-\\epsilon_{ac}}+k_{bc}^0\\\\\n",
    "0 & 0 & 0 & 0 & 1 & 0\n",
    "\\end{bmatrix}\n",
    "$$\n",
    "So that we get : \n",
    "$$\n",
    "\\bar{\\rho}(t+dt)(x) = P \\bar{\\rho} + \\rho(t)\n",
    "$$"
   ]
  },
  {
   "cell_type": "markdown",
   "metadata": {},
   "source": [
    "$$\n",
    "\\begin{pmatrix}\n",
    "\\rho_a(x+dx) & \\rho_a(x)& \\rho_a(x-dx)& \\rho_b(x+dx)& \\rho_b(x)&\\rho_b(x-dx)& \\rho_c(x+dx)& \\rho_c(x)&\\rho_c(x-dx)\\\\\n",
    "0 & 0 & 0 & 0 & 0 & 0 & 0 & 0 & 0 \\\\\n",
    "1/h^2 + \\partial_x V/(2*h) & -2/h^2 +\\partial_x^2V-k_{ac}^0e^V-e^V & 1/h^2-\\partial_x V/(2*h) & 0 & 1 & 0 & 0 & k_{ac}^0 e^{-\\epsilon_{ac}} & 0\\\\\n",
    "0 & 0 & 0 & 0 & 0 & 0 & 0 & 0 & 0 \\\\\n",
    "0 & 0 & 0 & 0 & 0 & 0 & 0 & 0 & 0 \\\\\n",
    "0 & e^V & 0 & 1/h^2 & - (k_{bc}^0 + 1) -2/h^2 & 1/h^2 & 0 & k_{bc}^0 & 0 \\\\\n",
    "0 & 0 & 0 & 0 & 0 & 0 & 0 & 0 & 0 \\\\\n",
    "0 & 0 & 0 & 0 & 0 & 0 & 0 & 0 & 0 \\\\\n",
    "0 & k_{ac}^0 e^V & 0 & 0 & k_{bc}^0 & 0 & 1/h^2 & -2/h^2 - k_{ac}^0 e^{-\\epsilon_{ac}}-k_{bc}^0 & 1/h^2\\\\\n",
    "0 & 0 & 0 & 0 & 0 & 0 & 0 & 0 & 0 \\\\\n",
    "\\end{pmatrix}\n",
    "$$"
   ]
  },
  {
   "cell_type": "code",
   "execution_count": 26,
   "metadata": {},
   "outputs": [
    {
     "name": "stdout",
     "output_type": "stream",
     "text": [
      "step size : 0.0002\n"
     ]
    }
   ],
   "source": [
    "def P(V,dV,ddV,x):\n",
    "    return np.array([[0,0,0,0,0,0,0,0,0],\n",
    "                    [1/h**2+dV(x)/(2*h), -2/h**2+ddV(x) - (kac+1)*np.exp(V(x)),1/h**2 - dV(x) / (2*h),0,1,0,0,+kac*np.exp(-Eac),0],\n",
    "                    [0,0,0,0,0,0,0,0,0],\n",
    "                    [0,0,0,0,0,0,0,0,0],\n",
    "                    [0,np.exp(V(x)),0,1/h**2,-kbc-1-2/h**2, 1/h**2,0,kbc,0],\n",
    "                    [0,0,0,0,0,0,0,0,0],\n",
    "                    [0,0,0,0,0,0,0,0,0],\n",
    "                    [0,kac*np.exp(V(x)),0,0,kbc,0,1/h**2,-kac*np.exp(-Eac)-kbc-2/h**2,1/h**2],\n",
    "                    [0,0,0,0,0,0,0,0,0]\n",
    "                    ])\n",
    "def PA(V,dV,ddV):\n",
    "    matrix = np.zeros((n,n),dtype=float)\n",
    "    for i in range(n):\n",
    "        for j in range(n):\n",
    "            if i == j :\n",
    "                matrix[i,j] = -2/dx**2+ddV(i*dx) - (kac+1)*np.exp(V(i*dx))\n",
    "            if i==j+1:\n",
    "                matrix[i,j] = 1/dx**2+dV(i*dx)/(2*dx)\n",
    "            if i==j-1:\n",
    "                matrix[i,j] = 1/dx**2 - dV(i*dx) / (2*dx)\n",
    "    return matrix\n",
    "def PB(V,dV,ddV) : \n",
    "    matrix = np.zeros((n,n),dtype=float)\n",
    "    for i in range(n):\n",
    "        for j in range(n):\n",
    "            if i==j:\n",
    "                matrix[i,j] = -kbc-1-2/dx**2\n",
    "            if i==j+1 or i==j-1:\n",
    "                matrix[i,j] = 1/dx**2\n",
    "    return matrix\n",
    "def PC(V,dV,ddV):\n",
    "    matrix = np.zeros((n,n),dtype=float)\n",
    "    for i in range(n):\n",
    "        for j in range(n):\n",
    "            if i==j:\n",
    "                matrix[i,j] = -kac*np.exp(-Eac)-kbc-2/dx**2\n",
    "            if i==j+1 or i==j-1:\n",
    "                matrix[i,j] = 1/dx**2   \n",
    "    return matrix\n",
    "\n",
    "\n",
    "def V(x) :\n",
    "    if x<0:\n",
    "        return 0.\n",
    "    else :\n",
    "        return V0\n",
    "dV = lambda x : 0\n",
    "ddV = lambda x : 0\n",
    "# We write the function f that takes two arguments : X (the position in space) and Y\n",
    "# the value of the vector rho at X. The function simply returns the derivative of the\n",
    "# vector rho at X\n",
    "\n",
    "print(\"step size : \"+str(h))\n",
    "def evolv(rho_a,rho_b,rho_c,dt):\n",
    "    # return rho(t+dt)\n",
    "    # rho is a 2d array of shape 3:n\n",
    "    #for i in range(rho.shape[0]):\n",
    "    #    rho_int = np.array([rho[0][i+1],rho[0][i],rho[0][i-1],rho[1][i+1],rho[1][i],rho[1][i-1],rho[2][i+1],rho[2][i],rho[2][i-1]])\n",
    "    #    rho_int+= np.dot(P(V,dV,ddV,i*dx),rho_int)*dx\n",
    "    #    rho[:,i] = np.array([rho_int[1], rho_int[4], rho_int[7]])\n",
    "    rho_a += (np.dot(PA(V,dV,ddV,),rho_a) + rho_b + +kac*np.exp(-Eac)*rho_c) * dt\n",
    "    rho_b += (np.dot(PB(V,dV,ddV),rho_b) + np.array([np.exp(V(i*dx)) * rho_a[i] for i in range(n)]) + kbc*rho_c) * dt\n",
    "    rho_c += (np.dot(PC(V,dV,ddV),rho_c) + np.array([kac*np.exp(V(i*dx)) * rho_a[i] for i in range(n)]) + kbc*rho_b) *dt\n",
    "    return rho_a,rho_b,rho_c"
   ]
  },
  {
   "cell_type": "code",
   "execution_count": 27,
   "metadata": {},
   "outputs": [],
   "source": [
    "ra_no_norm = kac * np.exp(-Eac) * 1 + kbc*1 + kbc*kac*np.exp(-Eac)\n",
    "rb_no_norm = kac*np.exp(-Eac)*np.exp(0)+np.exp(0)*kbc+kac*np.exp(0)*kbc\n",
    "rc_no_norm = kac*np.exp(0)*kbc+1*kac*np.exp(0)+np.exp(0)*kbc\n",
    "S = ra_no_norm+rb_no_norm+rc_no_norm\n",
    "ra_infty = ra_no_norm/S\n",
    "rb_infty = rb_no_norm/S\n",
    "rc_infty = rc_no_norm/S\n",
    "\n",
    "rho_0 = np.array([0,ra_infty,0,rb_infty,0,rc_infty])"
   ]
  },
  {
   "cell_type": "code",
   "execution_count": 28,
   "metadata": {},
   "outputs": [],
   "source": [
    "ra_inf_nonorm = kac * np.exp(-Eac) * 1 + kbc*1 + kbc*kac*np.exp(-Eac)\n",
    "rb_inf_nonorm = kac*np.exp(-Eac)*np.exp(V0)+np.exp(V0)*kbc+kac*np.exp(V0)*kbc\n",
    "rc_inf_nonorm = kac*np.exp(V0)*kbc+1*kac*np.exp(V0)+np.exp(V0)*kbc\n",
    "S = ra_inf_nonorm+rb_inf_nonorm+rc_inf_nonorm\n",
    "rainfty = ra_inf_nonorm/S\n",
    "rbinfty = rb_inf_nonorm/S\n",
    "rcinfty = rc_inf_nonorm/S\n",
    "\n",
    "rho_inf = np.array([0,rainfty,0,rbinfty,0,rcinfty])"
   ]
  },
  {
   "cell_type": "markdown",
   "metadata": {},
   "source": [
    "## Perform the numerical solution"
   ]
  },
  {
   "cell_type": "code",
   "execution_count": 70,
   "metadata": {},
   "outputs": [],
   "source": [
    "rho_a_0 = np.array([ra_infty for _ in range(n)])\n",
    "rho_b_0 = np.array([rb_infty for _ in range(n)])\n",
    "rho_c_0 = np.array([rc_infty for _ in range(n)])"
   ]
  },
  {
   "cell_type": "code",
   "execution_count": 81,
   "metadata": {},
   "outputs": [],
   "source": [
    "for t in range(100000):\n",
    "    rho_a,rho_b,rho_c = evolv(rho_a_0,rho_b_0,rho_c_0,0.0001)"
   ]
  },
  {
   "cell_type": "code",
   "execution_count": 83,
   "metadata": {},
   "outputs": [
    {
     "data": {
      "text/plain": [
       "[<matplotlib.lines.Line2D at 0x7f3b315affa0>]"
      ]
     },
     "execution_count": 83,
     "metadata": {},
     "output_type": "execute_result"
    },
    {
     "data": {
      "image/png": "[encoded data removed]",
      "text/plain": [
       "<Figure size 432x288 with 1 Axes>"
      ]
     },
     "metadata": {
      "needs_background": "light"
     },
     "output_type": "display_data"
    }
   ],
   "source": [
    "plt.plot(np.linspace(X0,Xf,n),rho_a)\n",
    "plt.plot(np.linspace(X0,Xf,n),rho_b)\n",
    "plt.plot(np.linspace(X0,Xf,n),rho_c)"
   ]
  },
  {
   "cell_type": "code",
   "execution_count": 76,
   "metadata": {},
   "outputs": [
    {
     "data": {
      "text/plain": [
       "array([0.20134219, 0.30204096, 0.32219179, 0.32219179, 0.32219179,\n",
       "       0.32219179, 0.32219179, 0.32219179, 0.32219179, 0.32219179,\n",
       "       0.32219179, 0.32219179, 0.32219179, 0.32219179, 0.32219179,\n",
       "       0.32219179, 0.32219179, 0.32219179, 0.32219179, 0.32219179,\n",
       "       0.32219179, 0.32219179, 0.32219179, 0.32219179, 0.32219179,\n",
       "       0.32219179, 0.32219179, 0.32219179, 0.32219179, 0.32219179,\n",
       "       0.32219179, 0.32219179, 0.32219179, 0.32219179, 0.32219179,\n",
       "       0.32219179, 0.32219179, 0.32219179, 0.32219179, 0.32219179,\n",
       "       0.32219179, 0.32219179, 0.32219179, 0.32219179, 0.32219179,\n",
       "       0.32219179, 0.32219179, 0.32219179, 0.32219179, 0.32219179,\n",
       "       0.32219179, 0.32219179, 0.32219179, 0.32219179, 0.32219179,\n",
       "       0.32219179, 0.32219179, 0.32219179, 0.32219179, 0.32219179,\n",
       "       0.32219179, 0.32219179, 0.32219179, 0.32219179, 0.32219179,\n",
       "       0.32219179, 0.32219179, 0.32219179, 0.32219179, 0.32219179,\n",
       "       0.32219179, 0.32219179, 0.32219179, 0.32219179, 0.32219179,\n",
       "       0.32219179, 0.32219179, 0.32219179, 0.32219179, 0.32219179,\n",
       "       0.32219179, 0.32219179, 0.32219179, 0.32219179, 0.32219179,\n",
       "       0.32219179, 0.32219179, 0.32219179, 0.32219179, 0.32219179,\n",
       "       0.32219179, 0.32219179, 0.32219179, 0.32219179, 0.32219179,\n",
       "       0.32219179, 0.32219179, 0.32219179, 0.30204096, 0.20134219])"
      ]
     },
     "execution_count": 76,
     "metadata": {},
     "output_type": "execute_result"
    }
   ],
   "source": [
    "rho_a"
   ]
  },
  {
   "cell_type": "code",
   "execution_count": 11,
   "metadata": {},
   "outputs": [
    {
     "data": {
      "text/plain": [
       "<matplotlib.legend.Legend at 0x7fceda06fb50>"
      ]
     },
     "execution_count": 11,
     "metadata": {},
     "output_type": "execute_result"
    },
    {
     "data": {
      "image/png": "[encoded data removed]",
      "text/plain": [
       "<Figure size 432x288 with 1 Axes>"
      ]
     },
     "metadata": {
      "needs_background": "light"
     },
     "output_type": "display_data"
    }
   ],
   "source": [
    "plt.plot(np.linspace(X0,0,n//2),[rho_0[1] for _ in range(n//2)],label='rho A - inf',c='blue')\n",
    "plt.plot(np.linspace(0,Xf,n//2),[rho_inf[1] for _ in range(n//2)],label='rho A + inf',c='blue')\n",
    "plt.plot(np.linspace(X0,0,n//2),[rho_0[3] for _ in range(n//2)],label='rho B - inf',c='red')\n",
    "plt.plot(np.linspace(0,Xf,n//2),[rho_inf[3] for _ in range(n//2)],label='rho B + inf',c='red')\n",
    "plt.legend()"
   ]
  },
  {
   "cell_type": "code",
   "execution_count": 24,
   "metadata": {},
   "outputs": [
    {
     "data": {
      "text/plain": [
       "array([ 2.52777393e+00, -2.52777393e+00, -3.40899739e-08,  3.40899746e-08,\n",
       "       -1.71806870e+00,  1.71806870e+00])"
      ]
     },
     "execution_count": 24,
     "metadata": {},
     "output_type": "execute_result"
    }
   ],
   "source": [
    "Mat = P(V,dV,ddV,1)\n",
    "la.eigvals(Mat)"
   ]
  },
  {
   "cell_type": "code",
   "execution_count": null,
   "metadata": {},
   "outputs": [],
   "source": []
  }
 ],
 "metadata": {
  "kernelspec": {
   "display_name": "Python 3.8.8 ('base')",
   "language": "python",
   "name": "python3"
  },
  "language_info": {
   "codemirror_mode": {
    "name": "ipython",
    "version": 3
   },
   "file_extension": ".py",
   "mimetype": "text/x-python",
   "name": "python",
   "nbconvert_exporter": "python",
   "pygments_lexer": "ipython3",
   "version": "3.8.8"
  },
  "orig_nbformat": 4,
  "vscode": {
   "interpreter": {
    "hash": "1d5eeb8876f044179b361bcddd340056e6c77a1f8539f3472ec98ae68ef2c035"
   }
  }
 },
 "nbformat": 4,
 "nbformat_minor": 2
}
